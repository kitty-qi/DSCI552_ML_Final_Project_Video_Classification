{
  "nbformat": 4,
  "nbformat_minor": 0,
  "metadata": {
    "colab": {
      "provenance": [],
      "machine_shape": "hm",
      "gpuType": "T4"
    },
    "kernelspec": {
      "name": "python3",
      "display_name": "Python 3"
    },
    "language_info": {
      "name": "python"
    },
    "accelerator": "GPU",
    "gpuClass": "standard"
  },
  "cells": [
    {
      "cell_type": "markdown",
      "source": [
        "**<center><h1>Qi_Hui_Final_Project</h1></center>**\n",
        "\n",
        "Name: Hui Qi\n",
        "<br>\n",
        "Github Username: yufeifeiqiqi\n",
        "<br>\n",
        "USC ID: 3206742781\n",
        "\n"
      ],
      "metadata": {
        "id": "jEUuxxvACLSl"
      }
    },
    {
      "cell_type": "code",
      "execution_count": 1,
      "metadata": {
        "colab": {
          "base_uri": "https://localhost:8080/"
        },
        "id": "R8e98OcnN27_",
        "outputId": "7d746bac-bb5e-47bb-932c-e65eba03763f"
      },
      "outputs": [
        {
          "output_type": "stream",
          "name": "stdout",
          "text": [
            "Mounted at /content/drive\n"
          ]
        }
      ],
      "source": [
        "from google.colab import drive\n",
        "drive.mount('/content/drive')"
      ]
    },
    {
      "cell_type": "code",
      "source": [
        "'''\n",
        "# Prevent Google Colab from disconnecting\n",
        "# Run this code in a cell and keep the tab open\n",
        "# Press Ctrl+Shift+I (Windows) or Cmd+Opt+I (Mac) to open the developer console\n",
        "# Paste the following code in the console and press Enter\n",
        "function ClickConnect(){\n",
        "  console.log(\"Working\"); \n",
        "  document.querySelector(\"colab-toolbar-button#connect\").click() \n",
        "}\n",
        "setInterval(ClickConnect,60000)\n",
        "'''"
      ],
      "metadata": {
        "id": "G921AfnKeMxO"
      },
      "execution_count": null,
      "outputs": []
    },
    {
      "cell_type": "code",
      "source": [
        "#/content/drive/MyDrive/Colab Notebooks/project/data"
      ],
      "metadata": {
        "id": "3B-XXf18PNY1"
      },
      "execution_count": null,
      "outputs": []
    },
    {
      "cell_type": "code",
      "source": [
        "!pip install tensorflow==2.9.3\n",
        "import pandas as pd\n",
        "import numpy as np\n",
        "import cv2\n",
        "\n",
        "import os\n",
        "import shutil\n",
        "import random\n",
        "import math\n",
        "import matplotlib.pyplot as plt\n",
        "from sklearn.metrics import classification_report\n",
        "from sklearn.metrics import precision_score, recall_score, f1_score, accuracy_score\n",
        "from sklearn.metrics import confusion_matrix\n",
        "\n",
        "import tensorflow as tf\n",
        "from tensorflow import keras\n",
        "from tensorflow.keras.utils import image_dataset_from_directory\n",
        "from tensorflow.keras.preprocessing.image import ImageDataGenerator\n",
        "\n",
        "\n",
        "from tensorflow.keras.applications import EfficientNetB0, VGG16, ResNet50\n",
        "from tensorflow.keras.models import Model, Sequential, load_model\n",
        "from tensorflow.keras.layers import Activation, Dropout, Flatten, Dense, BatchNormalization, GlobalAveragePooling2D\n",
        "from tensorflow.keras.callbacks import EarlyStopping\n",
        "\n",
        "from tensorflow.keras.models import load_model\n"
      ],
      "metadata": {
        "colab": {
          "base_uri": "https://localhost:8080/"
        },
        "id": "C0MIjxDBPoQT",
        "outputId": "e8bd0e9a-fe0b-49c5-a990-d5eeb471f679"
      },
      "execution_count": 2,
      "outputs": [
        {
          "output_type": "stream",
          "name": "stdout",
          "text": [
            "Looking in indexes: https://pypi.org/simple, https://us-python.pkg.dev/colab-wheels/public/simple/\n",
            "Collecting tensorflow==2.9.3\n",
            "  Downloading tensorflow-2.9.3-cp310-cp310-manylinux_2_17_x86_64.manylinux2014_x86_64.whl (511.8 MB)\n",
            "\u001b[2K     \u001b[90m━━━━━━━━━━━━━━━━━━━━━━━━━━━━━━━━━━━━━━━\u001b[0m \u001b[32m511.8/511.8 MB\u001b[0m \u001b[31m3.1 MB/s\u001b[0m eta \u001b[36m0:00:00\u001b[0m\n",
            "\u001b[?25hRequirement already satisfied: astunparse>=1.6.0 in /usr/local/lib/python3.10/dist-packages (from tensorflow==2.9.3) (1.6.3)\n",
            "Collecting tensorflow-estimator<2.10.0,>=2.9.0rc0\n",
            "  Downloading tensorflow_estimator-2.9.0-py2.py3-none-any.whl (438 kB)\n",
            "\u001b[2K     \u001b[90m━━━━━━━━━━━━━━━━━━━━━━━━━━━━━━━━━━━━━━\u001b[0m \u001b[32m438.7/438.7 kB\u001b[0m \u001b[31m42.4 MB/s\u001b[0m eta \u001b[36m0:00:00\u001b[0m\n",
            "\u001b[?25hRequirement already satisfied: six>=1.12.0 in /usr/local/lib/python3.10/dist-packages (from tensorflow==2.9.3) (1.16.0)\n",
            "Requirement already satisfied: wrapt>=1.11.0 in /usr/local/lib/python3.10/dist-packages (from tensorflow==2.9.3) (1.14.1)\n",
            "Requirement already satisfied: setuptools in /usr/local/lib/python3.10/dist-packages (from tensorflow==2.9.3) (67.7.2)\n",
            "Requirement already satisfied: absl-py>=1.0.0 in /usr/local/lib/python3.10/dist-packages (from tensorflow==2.9.3) (1.4.0)\n",
            "Requirement already satisfied: packaging in /usr/local/lib/python3.10/dist-packages (from tensorflow==2.9.3) (23.1)\n",
            "Requirement already satisfied: typing-extensions>=3.6.6 in /usr/local/lib/python3.10/dist-packages (from tensorflow==2.9.3) (4.5.0)\n",
            "Requirement already satisfied: numpy>=1.20 in /usr/local/lib/python3.10/dist-packages (from tensorflow==2.9.3) (1.22.4)\n",
            "Collecting protobuf<3.20,>=3.9.2\n",
            "  Downloading protobuf-3.19.6-cp310-cp310-manylinux_2_17_x86_64.manylinux2014_x86_64.whl (1.1 MB)\n",
            "\u001b[2K     \u001b[90m━━━━━━━━━━━━━━━━━━━━━━━━━━━━━━━━━━━━━━━━\u001b[0m \u001b[32m1.1/1.1 MB\u001b[0m \u001b[31m66.1 MB/s\u001b[0m eta \u001b[36m0:00:00\u001b[0m\n",
            "\u001b[?25hCollecting keras<2.10.0,>=2.9.0rc0\n",
            "  Downloading keras-2.9.0-py2.py3-none-any.whl (1.6 MB)\n",
            "\u001b[2K     \u001b[90m━━━━━━━━━━━━━━━━━━━━━━━━━━━━━━━━━━━━━━━━\u001b[0m \u001b[32m1.6/1.6 MB\u001b[0m \u001b[31m92.1 MB/s\u001b[0m eta \u001b[36m0:00:00\u001b[0m\n",
            "\u001b[?25hRequirement already satisfied: gast<=0.4.0,>=0.2.1 in /usr/local/lib/python3.10/dist-packages (from tensorflow==2.9.3) (0.4.0)\n",
            "Collecting tensorboard<2.10,>=2.9\n",
            "  Downloading tensorboard-2.9.1-py3-none-any.whl (5.8 MB)\n",
            "\u001b[2K     \u001b[90m━━━━━━━━━━━━━━━━━━━━━━━━━━━━━━━━━━━━━━━━\u001b[0m \u001b[32m5.8/5.8 MB\u001b[0m \u001b[31m116.1 MB/s\u001b[0m eta \u001b[36m0:00:00\u001b[0m\n",
            "\u001b[?25hCollecting flatbuffers<2,>=1.12\n",
            "  Downloading flatbuffers-1.12-py2.py3-none-any.whl (15 kB)\n",
            "Requirement already satisfied: grpcio<2.0,>=1.24.3 in /usr/local/lib/python3.10/dist-packages (from tensorflow==2.9.3) (1.54.0)\n",
            "Requirement already satisfied: opt-einsum>=2.3.2 in /usr/local/lib/python3.10/dist-packages (from tensorflow==2.9.3) (3.3.0)\n",
            "Requirement already satisfied: h5py>=2.9.0 in /usr/local/lib/python3.10/dist-packages (from tensorflow==2.9.3) (3.8.0)\n",
            "Collecting keras-preprocessing>=1.1.1\n",
            "  Downloading Keras_Preprocessing-1.1.2-py2.py3-none-any.whl (42 kB)\n",
            "\u001b[2K     \u001b[90m━━━━━━━━━━━━━━━━━━━━━━━━━━━━━━━━━━━━━━━━\u001b[0m \u001b[32m42.6/42.6 kB\u001b[0m \u001b[31m5.7 MB/s\u001b[0m eta \u001b[36m0:00:00\u001b[0m\n",
            "\u001b[?25hRequirement already satisfied: termcolor>=1.1.0 in /usr/local/lib/python3.10/dist-packages (from tensorflow==2.9.3) (2.3.0)\n",
            "Requirement already satisfied: tensorflow-io-gcs-filesystem>=0.23.1 in /usr/local/lib/python3.10/dist-packages (from tensorflow==2.9.3) (0.32.0)\n",
            "Requirement already satisfied: libclang>=13.0.0 in /usr/local/lib/python3.10/dist-packages (from tensorflow==2.9.3) (16.0.0)\n",
            "Requirement already satisfied: google-pasta>=0.1.1 in /usr/local/lib/python3.10/dist-packages (from tensorflow==2.9.3) (0.2.0)\n",
            "Requirement already satisfied: wheel<1.0,>=0.23.0 in /usr/local/lib/python3.10/dist-packages (from astunparse>=1.6.0->tensorflow==2.9.3) (0.40.0)\n",
            "Collecting google-auth-oauthlib<0.5,>=0.4.1\n",
            "  Downloading google_auth_oauthlib-0.4.6-py2.py3-none-any.whl (18 kB)\n",
            "Requirement already satisfied: werkzeug>=1.0.1 in /usr/local/lib/python3.10/dist-packages (from tensorboard<2.10,>=2.9->tensorflow==2.9.3) (2.3.0)\n",
            "Requirement already satisfied: requests<3,>=2.21.0 in /usr/local/lib/python3.10/dist-packages (from tensorboard<2.10,>=2.9->tensorflow==2.9.3) (2.27.1)\n",
            "Requirement already satisfied: google-auth<3,>=1.6.3 in /usr/local/lib/python3.10/dist-packages (from tensorboard<2.10,>=2.9->tensorflow==2.9.3) (2.17.3)\n",
            "Collecting tensorboard-data-server<0.7.0,>=0.6.0\n",
            "  Downloading tensorboard_data_server-0.6.1-py3-none-manylinux2010_x86_64.whl (4.9 MB)\n",
            "\u001b[2K     \u001b[90m━━━━━━━━━━━━━━━━━━━━━━━━━━━━━━━━━━━━━━━━\u001b[0m \u001b[32m4.9/4.9 MB\u001b[0m \u001b[31m116.1 MB/s\u001b[0m eta \u001b[36m0:00:00\u001b[0m\n",
            "\u001b[?25hRequirement already satisfied: tensorboard-plugin-wit>=1.6.0 in /usr/local/lib/python3.10/dist-packages (from tensorboard<2.10,>=2.9->tensorflow==2.9.3) (1.8.1)\n",
            "Requirement already satisfied: markdown>=2.6.8 in /usr/local/lib/python3.10/dist-packages (from tensorboard<2.10,>=2.9->tensorflow==2.9.3) (3.4.3)\n",
            "Requirement already satisfied: pyasn1-modules>=0.2.1 in /usr/local/lib/python3.10/dist-packages (from google-auth<3,>=1.6.3->tensorboard<2.10,>=2.9->tensorflow==2.9.3) (0.3.0)\n",
            "Requirement already satisfied: cachetools<6.0,>=2.0.0 in /usr/local/lib/python3.10/dist-packages (from google-auth<3,>=1.6.3->tensorboard<2.10,>=2.9->tensorflow==2.9.3) (5.3.0)\n",
            "Requirement already satisfied: rsa<5,>=3.1.4 in /usr/local/lib/python3.10/dist-packages (from google-auth<3,>=1.6.3->tensorboard<2.10,>=2.9->tensorflow==2.9.3) (4.9)\n",
            "Requirement already satisfied: requests-oauthlib>=0.7.0 in /usr/local/lib/python3.10/dist-packages (from google-auth-oauthlib<0.5,>=0.4.1->tensorboard<2.10,>=2.9->tensorflow==2.9.3) (1.3.1)\n",
            "Requirement already satisfied: charset-normalizer~=2.0.0 in /usr/local/lib/python3.10/dist-packages (from requests<3,>=2.21.0->tensorboard<2.10,>=2.9->tensorflow==2.9.3) (2.0.12)\n",
            "Requirement already satisfied: urllib3<1.27,>=1.21.1 in /usr/local/lib/python3.10/dist-packages (from requests<3,>=2.21.0->tensorboard<2.10,>=2.9->tensorflow==2.9.3) (1.26.15)\n",
            "Requirement already satisfied: idna<4,>=2.5 in /usr/local/lib/python3.10/dist-packages (from requests<3,>=2.21.0->tensorboard<2.10,>=2.9->tensorflow==2.9.3) (3.4)\n",
            "Requirement already satisfied: certifi>=2017.4.17 in /usr/local/lib/python3.10/dist-packages (from requests<3,>=2.21.0->tensorboard<2.10,>=2.9->tensorflow==2.9.3) (2022.12.7)\n",
            "Requirement already satisfied: MarkupSafe>=2.1.1 in /usr/local/lib/python3.10/dist-packages (from werkzeug>=1.0.1->tensorboard<2.10,>=2.9->tensorflow==2.9.3) (2.1.2)\n",
            "Requirement already satisfied: pyasn1<0.6.0,>=0.4.6 in /usr/local/lib/python3.10/dist-packages (from pyasn1-modules>=0.2.1->google-auth<3,>=1.6.3->tensorboard<2.10,>=2.9->tensorflow==2.9.3) (0.5.0)\n",
            "Requirement already satisfied: oauthlib>=3.0.0 in /usr/local/lib/python3.10/dist-packages (from requests-oauthlib>=0.7.0->google-auth-oauthlib<0.5,>=0.4.1->tensorboard<2.10,>=2.9->tensorflow==2.9.3) (3.2.2)\n",
            "Installing collected packages: keras, flatbuffers, tensorflow-estimator, tensorboard-data-server, protobuf, keras-preprocessing, google-auth-oauthlib, tensorboard, tensorflow\n",
            "  Attempting uninstall: keras\n",
            "    Found existing installation: keras 2.12.0\n",
            "    Uninstalling keras-2.12.0:\n",
            "      Successfully uninstalled keras-2.12.0\n",
            "  Attempting uninstall: flatbuffers\n",
            "    Found existing installation: flatbuffers 23.3.3\n",
            "    Uninstalling flatbuffers-23.3.3:\n",
            "      Successfully uninstalled flatbuffers-23.3.3\n",
            "  Attempting uninstall: tensorflow-estimator\n",
            "    Found existing installation: tensorflow-estimator 2.12.0\n",
            "    Uninstalling tensorflow-estimator-2.12.0:\n",
            "      Successfully uninstalled tensorflow-estimator-2.12.0\n",
            "  Attempting uninstall: tensorboard-data-server\n",
            "    Found existing installation: tensorboard-data-server 0.7.0\n",
            "    Uninstalling tensorboard-data-server-0.7.0:\n",
            "      Successfully uninstalled tensorboard-data-server-0.7.0\n",
            "  Attempting uninstall: protobuf\n",
            "    Found existing installation: protobuf 3.20.3\n",
            "    Uninstalling protobuf-3.20.3:\n",
            "      Successfully uninstalled protobuf-3.20.3\n",
            "  Attempting uninstall: google-auth-oauthlib\n",
            "    Found existing installation: google-auth-oauthlib 1.0.0\n",
            "    Uninstalling google-auth-oauthlib-1.0.0:\n",
            "      Successfully uninstalled google-auth-oauthlib-1.0.0\n",
            "  Attempting uninstall: tensorboard\n",
            "    Found existing installation: tensorboard 2.12.2\n",
            "    Uninstalling tensorboard-2.12.2:\n",
            "      Successfully uninstalled tensorboard-2.12.2\n",
            "  Attempting uninstall: tensorflow\n",
            "    Found existing installation: tensorflow 2.12.0\n",
            "    Uninstalling tensorflow-2.12.0:\n",
            "      Successfully uninstalled tensorflow-2.12.0\n",
            "\u001b[31mERROR: pip's dependency resolver does not currently take into account all the packages that are installed. This behaviour is the source of the following dependency conflicts.\n",
            "tensorflow-metadata 1.13.1 requires protobuf<5,>=3.20.3, but you have protobuf 3.19.6 which is incompatible.\u001b[0m\u001b[31m\n",
            "\u001b[0mSuccessfully installed flatbuffers-1.12 google-auth-oauthlib-0.4.6 keras-2.9.0 keras-preprocessing-1.1.2 protobuf-3.19.6 tensorboard-2.9.1 tensorboard-data-server-0.6.1 tensorflow-2.9.3 tensorflow-estimator-2.9.0\n"
          ]
        }
      ]
    },
    {
      "cell_type": "code",
      "source": [],
      "metadata": {
        "id": "rs5R8Rc0XA7b"
      },
      "execution_count": null,
      "outputs": []
    },
    {
      "cell_type": "code",
      "source": [
        "print(tf.__version__)"
      ],
      "metadata": {
        "colab": {
          "base_uri": "https://localhost:8080/"
        },
        "id": "6imVaur4yHlx",
        "outputId": "d9e237f7-a562-4102-e663-ac6af727402c"
      },
      "execution_count": 3,
      "outputs": [
        {
          "output_type": "stream",
          "name": "stdout",
          "text": [
            "2.9.3\n"
          ]
        }
      ]
    },
    {
      "cell_type": "markdown",
      "source": [
        "**Data Exploration and Pre-processing**"
      ],
      "metadata": {
        "id": "0RhfGhiP9iB-"
      }
    },
    {
      "cell_type": "code",
      "source": [
        "# Set the seed for numpy and tensorflow\n",
        "np.random.seed(42)\n",
        "tf.random.set_seed(42)"
      ],
      "metadata": {
        "id": "kza0ejVDSavl"
      },
      "execution_count": 4,
      "outputs": []
    },
    {
      "cell_type": "code",
      "source": [
        "# creating train / val /test\n",
        "root_dir = '/content/drive/MyDrive/Colab Notebooks/project/data/Sport_Images/'\n",
        "new_root = 'split_data/'\n",
        "classes = ['baseball', 'basketball', 'fencing', 'tennis', 'volleyball']\n",
        "\n",
        "for cls in classes:\n",
        "    os.makedirs(root_dir + new_root+ 'train/' + cls)\n",
        "    os.makedirs(root_dir +new_root +'val/' + cls)\n",
        "    os.makedirs(root_dir +new_root + 'test/' + cls)\n",
        "    \n",
        "## creating partition of the data after shuffeling\n",
        "\n",
        "for cls in classes:\n",
        "    src = root_dir + cls # folder to copy images from\n",
        "    print(src)\n",
        "\n",
        "    allFileNames = os.listdir(src)\n",
        "    np.random.seed(42) \n",
        "    np.random.shuffle(allFileNames)\n",
        "\n",
        "    ## here 0.70 = training ratio , (0.85-0.70) = validation ratio , (1-0.85) =  testign \n",
        "    train_FileNames,val_FileNames,test_FileNames = np.split(np.array(allFileNames),\n",
        "                                                            [math.ceil(0.7*len(allFileNames)),\n",
        "                                                             math.ceil(len(allFileNames)*0.85)])\n",
        "\n",
        "    # #Converting file names from array to list\n",
        "\n",
        "    train_FileNames = [src+'/'+ name for name in train_FileNames]\n",
        "    val_FileNames = [src+'/' + name for name in val_FileNames]\n",
        "    test_FileNames = [src+'/' + name for name in test_FileNames]\n",
        "\n",
        "    print('Total images  : '+ cls + ' ' +str(len(allFileNames)))\n",
        "    print('Training : '+ cls + ' '+str(len(train_FileNames)))\n",
        "    print('Validation : '+ cls + ' ' +str(len(val_FileNames)))\n",
        "    print('Testing : '+ cls + ' '+str(len(test_FileNames)))\n",
        "    \n",
        "    ## Copy pasting images to target directory\n",
        "\n",
        "    for name in train_FileNames:\n",
        "        shutil.copy(name, root_dir + new_root+'train/'+cls )\n",
        "\n",
        "\n",
        "    for name in val_FileNames:\n",
        "        shutil.copy(name, root_dir +new_root+'val/'+cls )\n",
        "\n",
        "\n",
        "    for name in test_FileNames:\n",
        "        shutil.copy(name,root_dir + new_root+'test/'+cls )"
      ],
      "metadata": {
        "id": "9DiiO6pPP3sL"
      },
      "execution_count": null,
      "outputs": []
    },
    {
      "cell_type": "code",
      "source": [
        "train_df = image_dataset_from_directory('/content/drive/MyDrive/Colab Notebooks/project/data/Sport_Images/split_data/train',\n",
        "                                        label_mode = 'categorical',\n",
        "                                        color_mode=\"rgb\",\n",
        "                                        batch_size=32,\n",
        "                                        image_size = (224, 224), \n",
        "                                        shuffle = False,\n",
        "                                        seed = 42)\n",
        "val_df = image_dataset_from_directory('/content/drive/MyDrive/Colab Notebooks/project/data/Sport_Images/split_data/val',\n",
        "                                        label_mode = 'categorical',\n",
        "                                        color_mode=\"rgb\",\n",
        "                                        batch_size=32,\n",
        "                                        image_size = (224, 224), \n",
        "                                        shuffle = False,\n",
        "                                        seed = 42)\n",
        "test_df = image_dataset_from_directory('/content/drive/MyDrive/Colab Notebooks/project/data/Sport_Images/split_data/test',\n",
        "                                        label_mode = 'categorical',\n",
        "                                        color_mode=\"rgb\",\n",
        "                                        batch_size=32,\n",
        "                                        image_size = (224, 224), \n",
        "                                        shuffle = False,\n",
        "                                        seed = 42)"
      ],
      "metadata": {
        "colab": {
          "base_uri": "https://localhost:8080/"
        },
        "id": "QQquVWfqPszv",
        "outputId": "fda5f514-8e3e-4daf-fb9e-175d54b5ea58"
      },
      "execution_count": 5,
      "outputs": [
        {
          "output_type": "stream",
          "name": "stdout",
          "text": [
            "Found 2311 files belonging to 5 classes.\n",
            "Found 495 files belonging to 5 classes.\n",
            "Found 493 files belonging to 5 classes.\n"
          ]
        }
      ]
    },
    {
      "cell_type": "markdown",
      "source": [
        "**(ii) Image augmentation**"
      ],
      "metadata": {
        "id": "V2xdSq-gXvzY"
      }
    },
    {
      "cell_type": "code",
      "source": [
        "# https://www.analyticsvidhya.com/blog/2020/08/top-4-pre-trained-models-for-image-classification-with-python-code/\n",
        "# https://www.tensorflow.org/api_docs/python/tf/keras/preprocessing/image/ImageDataGenerator\n",
        "# https://blog.keras.io/building-powerful-image-classification-models-using-very-little-data.html\n",
        "\n",
        "# Add our data-augmentation parameters to ImageDataGenerator\n",
        "# this is the augmentation configuration we will use for training\n",
        "train_datagen = ImageDataGenerator(rescale = 1.0/255.,\n",
        "                                   rotation_range = 40, \n",
        "                                   width_shift_range = 0.2, \n",
        "                                   height_shift_range = 0.2, \n",
        "                                   shear_range = 0.2, \n",
        "                                   zoom_range = 0.2, \n",
        "                                   horizontal_flip = True)\n",
        "\n",
        "# Note that the validation data should not be augmented!\n",
        "# this is the augmentation configuration we will use for testing:\n",
        "# only rescaling\n",
        "val_datagen = ImageDataGenerator(rescale = 1.0/255. )\n",
        "test_datagen = ImageDataGenerator(rescale = 1.0/255. )"
      ],
      "metadata": {
        "id": "5oe25GHXQkPR"
      },
      "execution_count": 6,
      "outputs": []
    },
    {
      "cell_type": "code",
      "source": [
        "# https://keras.io/zh/preprocessing/image/\n",
        "\n",
        "train_dir = '/content/drive/MyDrive/Colab Notebooks/project/data/Sport_Images/split_data/train'\n",
        "validation_dir = '/content/drive/MyDrive/Colab Notebooks/project/data/Sport_Images/split_data/val'\n",
        "test_dir = '/content/drive/MyDrive/Colab Notebooks/project/data/Sport_Images/split_data/test'\n",
        "\n",
        "# Flow training images in batches of 5 using train_datagen generator\n",
        "train_generator = train_datagen.flow_from_directory(train_dir, \n",
        "                                                    batch_size = 5, \n",
        "                                                    class_mode = 'categorical', \n",
        "                                                    target_size = (224, 224),\n",
        "                                                    shuffle = False,\n",
        "                                                    seed=42)\n",
        "\n",
        "# Flow validation images in batches of 5 using val_datagen generator\n",
        "validation_generator = val_datagen.flow_from_directory( validation_dir,  \n",
        "                                                        batch_size = 5, \n",
        "                                                        class_mode = 'categorical', \n",
        "                                                        target_size = (224, 224),\n",
        "                                                        shuffle = False,\n",
        "                                                        seed=42)\n",
        "\n",
        "# Flow validation images in batches of 5 using test_datagen generator\n",
        "test_generator = test_datagen.flow_from_directory( validation_dir,  \n",
        "                                                        batch_size = 5, \n",
        "                                                        class_mode = 'categorical', \n",
        "                                                        target_size = (224, 224),\n",
        "                                                        shuffle = False,\n",
        "                                                        seed=42)"
      ],
      "metadata": {
        "colab": {
          "base_uri": "https://localhost:8080/"
        },
        "id": "dC6wG1nYY0L3",
        "outputId": "62719c70-7f0b-4e5e-8f08-ec490c022ec4"
      },
      "execution_count": 7,
      "outputs": [
        {
          "output_type": "stream",
          "name": "stdout",
          "text": [
            "Found 2298 images belonging to 5 classes.\n",
            "Found 494 images belonging to 5 classes.\n",
            "Found 494 images belonging to 5 classes.\n"
          ]
        }
      ]
    },
    {
      "cell_type": "markdown",
      "source": [
        "**(iii) Use ReLU activation functions in the last layer and a softmax layer, along with batch normalization and a dropout rate of 20% as well as ADAM optimizer. Use multinomial cross entropy loss. You can try any batch size, but a batch size of 5 seems reasonable.**"
      ],
      "metadata": {
        "id": "yiK7dfgK2j-G"
      }
    },
    {
      "cell_type": "code",
      "source": [
        "# https://keras.io/guides/transfer_learning/\n",
        "# https://keras.io/api/optimizers/\n",
        "# https://towardsdatascience.com/fine-tuning-pre-trained-model-vgg-16-1277268c537f\n",
        "\n",
        "# VGG16\n",
        "\n",
        "\n",
        "vgg_conv = VGG16(input_shape = (224, 224, 3), # Shape of our images\n",
        "                  include_top = False, # Leave out the last fully connected layer\n",
        "                  weights = 'imagenet')\n",
        "\n",
        "# remove the last layer and freeze the rest\n",
        "base_model_vgg = Model(vgg_conv.input, vgg_conv.layers[-2].output)\n",
        "base_model_vgg.trainable = False # Freeze the layer"
      ],
      "metadata": {
        "colab": {
          "base_uri": "https://localhost:8080/"
        },
        "id": "9nIS6OdN2dGs",
        "outputId": "9bbbdc3c-579a-4326-ed8f-874e233fb0db"
      },
      "execution_count": 38,
      "outputs": [
        {
          "output_type": "stream",
          "name": "stdout",
          "text": [
            "Downloading data from https://storage.googleapis.com/tensorflow/keras-applications/vgg16/vgg16_weights_tf_dim_ordering_tf_kernels_notop.h5\n",
            "58889256/58889256 [==============================] - 3s 0us/step\n"
          ]
        }
      ]
    },
    {
      "cell_type": "code",
      "source": [
        "# use ReLU activation functions in the last layer and a softmax layer\n",
        "model_vgg = Sequential()\n",
        "model_vgg.add(base_model_vgg)\n",
        "model_vgg.add(GlobalAveragePooling2D())\n",
        "model_vgg.add(BatchNormalization())\n",
        "model_vgg.add(Dense(200, activation = 'relu'))\n",
        "model_vgg.add(Dropout(0.2))  # Dropout layer to reduce overfitting\n",
        "model_vgg.add(Dense(5, activation = 'softmax'))\n",
        "model_vgg.compile(optimizer = 'adam', loss = 'categorical_crossentropy', metrics = ['accuracy'])\n",
        "model_vgg.summary()"
      ],
      "metadata": {
        "colab": {
          "base_uri": "https://localhost:8080/"
        },
        "id": "88v33kSC_Se1",
        "outputId": "bae7f6d1-6a27-481c-82eb-158b32bc93b6"
      },
      "execution_count": 39,
      "outputs": [
        {
          "output_type": "stream",
          "name": "stdout",
          "text": [
            "Model: \"sequential_1\"\n",
            "_________________________________________________________________\n",
            " Layer (type)                Output Shape              Param #   \n",
            "=================================================================\n",
            " model_1 (Functional)        (None, 14, 14, 512)       14714688  \n",
            "                                                                 \n",
            " global_average_pooling2d_1   (None, 512)              0         \n",
            " (GlobalAveragePooling2D)                                        \n",
            "                                                                 \n",
            " batch_normalization_1 (Batc  (None, 512)              2048      \n",
            " hNormalization)                                                 \n",
            "                                                                 \n",
            " dense_2 (Dense)             (None, 200)               102600    \n",
            "                                                                 \n",
            " dropout_1 (Dropout)         (None, 200)               0         \n",
            "                                                                 \n",
            " dense_3 (Dense)             (None, 5)                 1005      \n",
            "                                                                 \n",
            "=================================================================\n",
            "Total params: 14,820,341\n",
            "Trainable params: 104,629\n",
            "Non-trainable params: 14,715,712\n",
            "_________________________________________________________________\n"
          ]
        }
      ]
    },
    {
      "cell_type": "code",
      "source": [
        "# EfficientNetB0 \n",
        "eff_conv = EfficientNetB0(weights = 'imagenet', input_shape = (224, 224, 3), include_top = False)\n",
        "base_model_eff = Model(eff_conv.input, eff_conv.layers[-2].output)\n",
        "base_model_eff.trainable = False"
      ],
      "metadata": {
        "colab": {
          "base_uri": "https://localhost:8080/"
        },
        "id": "bbqrrb2lCwb-",
        "outputId": "fe0af026-c513-45c8-a1ca-c34f3604734d"
      },
      "execution_count": 8,
      "outputs": [
        {
          "output_type": "stream",
          "name": "stdout",
          "text": [
            "Downloading data from https://storage.googleapis.com/keras-applications/efficientnetb0_notop.h5\n",
            "16705208/16705208 [==============================] - 2s 0us/step\n"
          ]
        }
      ]
    },
    {
      "cell_type": "code",
      "source": [
        "model_eff = Sequential()\n",
        "model_eff.add(base_model_eff)\n",
        "model_eff.add(GlobalAveragePooling2D())\n",
        "model_eff.add(BatchNormalization())\n",
        "model_eff.add(Dense(200, activation = 'relu'))\n",
        "model_eff.add(Dropout(0.2))\n",
        "model_eff.add(Dense(5, activation = 'softmax'))\n",
        "model_eff.compile(optimizer = 'adam', loss = 'categorical_crossentropy', metrics = ['accuracy'])\n",
        "model_eff.summary()"
      ],
      "metadata": {
        "colab": {
          "base_uri": "https://localhost:8080/"
        },
        "id": "bKde_XSRDWXx",
        "outputId": "78bdd4fe-cde1-414a-a89d-82a8bfed7982"
      },
      "execution_count": 9,
      "outputs": [
        {
          "output_type": "stream",
          "name": "stdout",
          "text": [
            "Model: \"sequential\"\n",
            "_________________________________________________________________\n",
            " Layer (type)                Output Shape              Param #   \n",
            "=================================================================\n",
            " model (Functional)          (None, 7, 7, 1280)        4049571   \n",
            "                                                                 \n",
            " global_average_pooling2d (G  (None, 1280)             0         \n",
            " lobalAveragePooling2D)                                          \n",
            "                                                                 \n",
            " batch_normalization (BatchN  (None, 1280)             5120      \n",
            " ormalization)                                                   \n",
            "                                                                 \n",
            " dense (Dense)               (None, 200)               256200    \n",
            "                                                                 \n",
            " dropout (Dropout)           (None, 200)               0         \n",
            "                                                                 \n",
            " dense_1 (Dense)             (None, 5)                 1005      \n",
            "                                                                 \n",
            "=================================================================\n",
            "Total params: 4,311,896\n",
            "Trainable params: 259,765\n",
            "Non-trainable params: 4,052,131\n",
            "_________________________________________________________________\n"
          ]
        }
      ]
    },
    {
      "cell_type": "code",
      "source": [
        "# ResNet50\n",
        "# https://medium.com/@kenneth.ca95/a-guide-to-transfer-learning-with-keras-using-resnet50-a81a4a28084b\n",
        "res_conv = ResNet50(weights = 'imagenet', input_shape = (224, 224, 3), include_top = False)\n",
        "base_model_res = Model(res_conv.input, res_conv.layers[-2].output)\n",
        "base_model_res.trainable = False"
      ],
      "metadata": {
        "colab": {
          "base_uri": "https://localhost:8080/"
        },
        "id": "aj1K_He_FVFd",
        "outputId": "c53c76aa-67fd-48c1-c92a-55b69f2ef78f"
      },
      "execution_count": 74,
      "outputs": [
        {
          "output_type": "stream",
          "name": "stdout",
          "text": [
            "Downloading data from https://storage.googleapis.com/tensorflow/keras-applications/resnet/resnet50_weights_tf_dim_ordering_tf_kernels_notop.h5\n",
            "94765736/94765736 [==============================] - 5s 0us/step\n"
          ]
        }
      ]
    },
    {
      "cell_type": "code",
      "source": [
        "model_res = Sequential()\n",
        "model_res.add(base_model_res)\n",
        "model_res.add(GlobalAveragePooling2D())\n",
        "model_res.add(BatchNormalization())\n",
        "model_res.add(Dense(200, activation = 'relu'))\n",
        "model_res.add(Dropout(0.2))\n",
        "model_res.add(Dense(5, activation = 'softmax'))\n",
        "model_res.compile(optimizer = 'adam', loss = 'categorical_crossentropy', metrics = ['accuracy'])\n",
        "model_res.summary()"
      ],
      "metadata": {
        "colab": {
          "base_uri": "https://localhost:8080/"
        },
        "id": "wMyUmh7fIZRf",
        "outputId": "4a244835-2e3c-4a8e-a781-f67e0c3d0618"
      },
      "execution_count": 75,
      "outputs": [
        {
          "output_type": "stream",
          "name": "stdout",
          "text": [
            "Model: \"sequential_2\"\n",
            "_________________________________________________________________\n",
            " Layer (type)                Output Shape              Param #   \n",
            "=================================================================\n",
            " model_2 (Functional)        (None, 7, 7, 2048)        23587712  \n",
            "                                                                 \n",
            " global_average_pooling2d_2   (None, 2048)             0         \n",
            " (GlobalAveragePooling2D)                                        \n",
            "                                                                 \n",
            " batch_normalization_2 (Batc  (None, 2048)             8192      \n",
            " hNormalization)                                                 \n",
            "                                                                 \n",
            " dense_4 (Dense)             (None, 200)               409800    \n",
            "                                                                 \n",
            " dropout_2 (Dropout)         (None, 200)               0         \n",
            "                                                                 \n",
            " dense_5 (Dense)             (None, 5)                 1005      \n",
            "                                                                 \n",
            "=================================================================\n",
            "Total params: 24,006,709\n",
            "Trainable params: 414,901\n",
            "Non-trainable params: 23,591,808\n",
            "_________________________________________________________________\n"
          ]
        }
      ]
    },
    {
      "cell_type": "markdown",
      "source": [
        "**(iv) Train the networks ResNet50, EfficientNetB0, and VGG16 for at least 50 epochs (preferably 100 epochs) and perform early stopping using the valida- tion set. Keep the network parameters that have the lowest validation error. Plot the training and validation errors vs. epochs.**"
      ],
      "metadata": {
        "id": "ElpnyndDV99C"
      }
    },
    {
      "cell_type": "code",
      "source": [
        "# https://www.projectpro.io/recipes/run-and-fit-data-with-keras-model\n",
        "# https://www.tensorflow.org/api_docs/python/tf/keras/Model#fit\n",
        "# https://machinelearningmastery.com/how-to-stop-training-deep-neural-networks-at-the-right-time-using-early-stopping/\n",
        "# https://keunwoochoi.wordpress.com/2017/08/24/tip-fit_generator-in-keras-how-to-parallelise-correctly/\n"
      ],
      "metadata": {
        "id": "i4Uz48NII5T9"
      },
      "execution_count": null,
      "outputs": []
    },
    {
      "cell_type": "code",
      "source": [
        "es = EarlyStopping(monitor = 'val_loss', \n",
        "                               mode = 'min',\n",
        "                               verbose=0,\n",
        "                               patience = 20, \n",
        "                               restore_best_weights = True)"
      ],
      "metadata": {
        "id": "yR4-8bya_VX7"
      },
      "execution_count": 10,
      "outputs": []
    },
    {
      "cell_type": "markdown",
      "source": [
        "**VGG16**"
      ],
      "metadata": {
        "id": "8cPNuFYNWPCw"
      }
    },
    {
      "cell_type": "code",
      "source": [
        "# VGG16\n",
        "history_vgg = model_vgg.fit(train_generator, \n",
        "                            epochs = 100, \n",
        "                            batch_size = 5, \n",
        "                            validation_data = validation_generator, \n",
        "                            workers = 5,\n",
        "                            use_multiprocessing = True,\n",
        "                            callbacks = [es])"
      ],
      "metadata": {
        "colab": {
          "base_uri": "https://localhost:8080/"
        },
        "id": "2Zl7Q8mq_Vhj",
        "outputId": "19ff97ec-917c-4531-869b-c105e54b445a"
      },
      "execution_count": 40,
      "outputs": [
        {
          "output_type": "stream",
          "name": "stdout",
          "text": [
            "Epoch 1/100\n",
            "460/460 [==============================] - 29s 58ms/step - loss: 1.5000 - accuracy: 0.3751 - val_loss: 1.3266 - val_accuracy: 0.4636\n",
            "Epoch 2/100\n",
            "460/460 [==============================] - 25s 54ms/step - loss: 1.0433 - accuracy: 0.5962 - val_loss: 1.3168 - val_accuracy: 0.5668\n",
            "Epoch 3/100\n",
            "460/460 [==============================] - 25s 54ms/step - loss: 0.8375 - accuracy: 0.6867 - val_loss: 1.2573 - val_accuracy: 0.5931\n",
            "Epoch 4/100\n",
            "460/460 [==============================] - 25s 54ms/step - loss: 0.7098 - accuracy: 0.7350 - val_loss: 1.3899 - val_accuracy: 0.5648\n",
            "Epoch 5/100\n",
            "460/460 [==============================] - 25s 53ms/step - loss: 0.6034 - accuracy: 0.7846 - val_loss: 1.3191 - val_accuracy: 0.5769\n",
            "Epoch 6/100\n",
            "460/460 [==============================] - 25s 54ms/step - loss: 0.5141 - accuracy: 0.8177 - val_loss: 1.5640 - val_accuracy: 0.5729\n",
            "Epoch 7/100\n",
            "460/460 [==============================] - 25s 53ms/step - loss: 0.4381 - accuracy: 0.8490 - val_loss: 1.2673 - val_accuracy: 0.6356\n",
            "Epoch 8/100\n",
            "460/460 [==============================] - 25s 53ms/step - loss: 0.4144 - accuracy: 0.8464 - val_loss: 1.5328 - val_accuracy: 0.5931\n",
            "Epoch 9/100\n",
            "460/460 [==============================] - 25s 53ms/step - loss: 0.3882 - accuracy: 0.8677 - val_loss: 1.2921 - val_accuracy: 0.6437\n",
            "Epoch 10/100\n",
            "460/460 [==============================] - 25s 53ms/step - loss: 0.3513 - accuracy: 0.8829 - val_loss: 1.8319 - val_accuracy: 0.5992\n",
            "Epoch 11/100\n",
            "460/460 [==============================] - 25s 53ms/step - loss: 0.3564 - accuracy: 0.8760 - val_loss: 1.8199 - val_accuracy: 0.5648\n",
            "Epoch 12/100\n",
            "460/460 [==============================] - 25s 53ms/step - loss: 0.3077 - accuracy: 0.8895 - val_loss: 1.8848 - val_accuracy: 0.6032\n",
            "Epoch 13/100\n",
            "460/460 [==============================] - 25s 54ms/step - loss: 0.3093 - accuracy: 0.8895 - val_loss: 1.8614 - val_accuracy: 0.5709\n",
            "Epoch 14/100\n",
            "460/460 [==============================] - 25s 53ms/step - loss: 0.3043 - accuracy: 0.8912 - val_loss: 2.0674 - val_accuracy: 0.5526\n",
            "Epoch 15/100\n",
            "460/460 [==============================] - 25s 54ms/step - loss: 0.2757 - accuracy: 0.9077 - val_loss: 1.9459 - val_accuracy: 0.6134\n",
            "Epoch 16/100\n",
            "460/460 [==============================] - 25s 53ms/step - loss: 0.2732 - accuracy: 0.9008 - val_loss: 1.4987 - val_accuracy: 0.6538\n",
            "Epoch 17/100\n",
            "460/460 [==============================] - 25s 53ms/step - loss: 0.2452 - accuracy: 0.9217 - val_loss: 1.9681 - val_accuracy: 0.6377\n",
            "Epoch 18/100\n",
            "460/460 [==============================] - 25s 54ms/step - loss: 0.2591 - accuracy: 0.9099 - val_loss: 1.7011 - val_accuracy: 0.6073\n",
            "Epoch 19/100\n",
            "460/460 [==============================] - 25s 53ms/step - loss: 0.2219 - accuracy: 0.9308 - val_loss: 1.7387 - val_accuracy: 0.6316\n",
            "Epoch 20/100\n",
            "460/460 [==============================] - 25s 54ms/step - loss: 0.2012 - accuracy: 0.9273 - val_loss: 1.6010 - val_accuracy: 0.6640\n",
            "Epoch 21/100\n",
            "460/460 [==============================] - 25s 53ms/step - loss: 0.1973 - accuracy: 0.9295 - val_loss: 1.5894 - val_accuracy: 0.6538\n",
            "Epoch 22/100\n",
            "460/460 [==============================] - 25s 54ms/step - loss: 0.2086 - accuracy: 0.9326 - val_loss: 1.8437 - val_accuracy: 0.6417\n",
            "Epoch 23/100\n",
            "460/460 [==============================] - 25s 53ms/step - loss: 0.1787 - accuracy: 0.9386 - val_loss: 1.9117 - val_accuracy: 0.6336\n"
          ]
        }
      ]
    },
    {
      "cell_type": "code",
      "source": [
        "# https://stackoverflow.com/questions/41908379/keras-plot-training-validation-and-test-set-accuracy\n",
        "\n",
        "\n",
        "train_accuracy_vgg = history_vgg.history['accuracy']\n",
        "val_accuracy_vgg = history_vgg.history['val_accuracy']\n",
        "\n",
        "train_error_vgg = []\n",
        "val_error_vgg = []\n",
        "\n",
        "for i in range(len(train_accuracy_vgg)):\n",
        "    train_error_vgg.append(1 - train_accuracy_vgg[i])\n",
        "    val_error_vgg.append(1 - val_accuracy_vgg[i])\n",
        "\n",
        "\n",
        "plt.plot(train_error_vgg)\n",
        "plt.plot(val_error_vgg)\n",
        "plt.title('VGG16 - Training and Validation Errors vs. Epochs')\n",
        "plt.ylabel('error')\n",
        "plt.xlabel('epoch')\n",
        "plt.legend(['train', 'validation'], loc='upper right')\n",
        "plt.show()\n"
      ],
      "metadata": {
        "colab": {
          "base_uri": "https://localhost:8080/",
          "height": 472
        },
        "id": "aN-ez7C5LrtY",
        "outputId": "a06b352b-435f-4b5d-afd8-c1b3602e5b7e"
      },
      "execution_count": 41,
      "outputs": [
        {
          "output_type": "display_data",
          "data": {
            "text/plain": [
              "<Figure size 640x480 with 1 Axes>"
            ],
            "image/png": "[encoded data removed]"
          },
          "metadata": {}
        }
      ]
    },
    {
      "cell_type": "code",
      "source": [],
      "metadata": {
        "id": "MUTRcg2ea510"
      },
      "execution_count": null,
      "outputs": []
    },
    {
      "cell_type": "markdown",
      "source": [
        "**ResNet50**"
      ],
      "metadata": {
        "id": "5wqWsSFzw4Wm"
      }
    },
    {
      "cell_type": "code",
      "source": [
        "# ResNet50\n",
        "\n",
        "history_res = model_res.fit(train_generator, \n",
        "                            epochs = 100, \n",
        "                            batch_size = 5, \n",
        "                            validation_data = validation_generator, \n",
        "                            workers = 5,\n",
        "                            use_multiprocessing = True,\n",
        "                            callbacks = [es])"
      ],
      "metadata": {
        "colab": {
          "base_uri": "https://localhost:8080/"
        },
        "id": "sI_hNguDKk6-",
        "outputId": "61ff7a34-589c-4ae2-e8a1-fa62b2c386a7"
      },
      "execution_count": 76,
      "outputs": [
        {
          "output_type": "stream",
          "name": "stdout",
          "text": [
            "Epoch 1/100\n",
            "460/460 [==============================] - 29s 52ms/step - loss: 3.4557 - accuracy: 0.2698 - val_loss: 3.0413 - val_accuracy: 0.2591\n",
            "Epoch 2/100\n",
            "460/460 [==============================] - 22s 47ms/step - loss: 2.7572 - accuracy: 0.3003 - val_loss: 2.5572 - val_accuracy: 0.2692\n",
            "Epoch 3/100\n",
            "460/460 [==============================] - 22s 47ms/step - loss: 1.9819 - accuracy: 0.3425 - val_loss: 2.1332 - val_accuracy: 0.2915\n",
            "Epoch 4/100\n",
            "460/460 [==============================] - 23s 48ms/step - loss: 1.6432 - accuracy: 0.3642 - val_loss: 1.9205 - val_accuracy: 0.3097\n",
            "Epoch 5/100\n",
            "460/460 [==============================] - 22s 47ms/step - loss: 1.5279 - accuracy: 0.3899 - val_loss: 1.7620 - val_accuracy: 0.3178\n",
            "Epoch 6/100\n",
            "460/460 [==============================] - 23s 48ms/step - loss: 1.3964 - accuracy: 0.4134 - val_loss: 1.6810 - val_accuracy: 0.3138\n",
            "Epoch 7/100\n",
            "460/460 [==============================] - 22s 48ms/step - loss: 1.4020 - accuracy: 0.4099 - val_loss: 1.5513 - val_accuracy: 0.3482\n",
            "Epoch 8/100\n",
            "460/460 [==============================] - 22s 47ms/step - loss: 1.3684 - accuracy: 0.4182 - val_loss: 1.6399 - val_accuracy: 0.3543\n",
            "Epoch 9/100\n",
            "460/460 [==============================] - 22s 47ms/step - loss: 1.3659 - accuracy: 0.4356 - val_loss: 1.8823 - val_accuracy: 0.2854\n",
            "Epoch 10/100\n",
            "460/460 [==============================] - 22s 47ms/step - loss: 1.3769 - accuracy: 0.4156 - val_loss: 1.6410 - val_accuracy: 0.3543\n",
            "Epoch 11/100\n",
            "460/460 [==============================] - 22s 47ms/step - loss: 1.3661 - accuracy: 0.4321 - val_loss: 1.6073 - val_accuracy: 0.3259\n",
            "Epoch 12/100\n",
            "460/460 [==============================] - 22s 47ms/step - loss: 1.3479 - accuracy: 0.4391 - val_loss: 1.6753 - val_accuracy: 0.3117\n",
            "Epoch 13/100\n",
            "460/460 [==============================] - 23s 48ms/step - loss: 1.3561 - accuracy: 0.4491 - val_loss: 1.6401 - val_accuracy: 0.3320\n",
            "Epoch 14/100\n",
            "460/460 [==============================] - 22s 47ms/step - loss: 1.3465 - accuracy: 0.4395 - val_loss: 1.6204 - val_accuracy: 0.3583\n",
            "Epoch 15/100\n",
            "460/460 [==============================] - 22s 47ms/step - loss: 1.3445 - accuracy: 0.4365 - val_loss: 1.6492 - val_accuracy: 0.3198\n",
            "Epoch 16/100\n",
            "460/460 [==============================] - 22s 47ms/step - loss: 1.3269 - accuracy: 0.4326 - val_loss: 1.6840 - val_accuracy: 0.3482\n",
            "Epoch 17/100\n",
            "460/460 [==============================] - 22s 47ms/step - loss: 1.3466 - accuracy: 0.4212 - val_loss: 1.7038 - val_accuracy: 0.3421\n",
            "Epoch 18/100\n",
            "460/460 [==============================] - 22s 46ms/step - loss: 1.3105 - accuracy: 0.4556 - val_loss: 1.5858 - val_accuracy: 0.3462\n",
            "Epoch 19/100\n",
            "460/460 [==============================] - 22s 47ms/step - loss: 1.3103 - accuracy: 0.4391 - val_loss: 1.6972 - val_accuracy: 0.3704\n",
            "Epoch 20/100\n",
            "460/460 [==============================] - 22s 47ms/step - loss: 1.3038 - accuracy: 0.4560 - val_loss: 1.7795 - val_accuracy: 0.3421\n",
            "Epoch 21/100\n",
            "460/460 [==============================] - 22s 47ms/step - loss: 1.2895 - accuracy: 0.4648 - val_loss: 1.7651 - val_accuracy: 0.3927\n",
            "Epoch 22/100\n",
            "460/460 [==============================] - 23s 47ms/step - loss: 1.3260 - accuracy: 0.4482 - val_loss: 1.8750 - val_accuracy: 0.3441\n",
            "Epoch 23/100\n",
            "460/460 [==============================] - 22s 47ms/step - loss: 1.3162 - accuracy: 0.4621 - val_loss: 1.7356 - val_accuracy: 0.3745\n",
            "Epoch 24/100\n",
            "460/460 [==============================] - 22s 47ms/step - loss: 1.3150 - accuracy: 0.4574 - val_loss: 1.7956 - val_accuracy: 0.3239\n",
            "Epoch 25/100\n",
            "460/460 [==============================] - 22s 46ms/step - loss: 1.2873 - accuracy: 0.4774 - val_loss: 1.7858 - val_accuracy: 0.3300\n",
            "Epoch 26/100\n",
            "460/460 [==============================] - 22s 47ms/step - loss: 1.2751 - accuracy: 0.4613 - val_loss: 1.6256 - val_accuracy: 0.3462\n",
            "Epoch 27/100\n",
            "460/460 [==============================] - 22s 47ms/step - loss: 1.2912 - accuracy: 0.4613 - val_loss: 1.6100 - val_accuracy: 0.3441\n"
          ]
        }
      ]
    },
    {
      "cell_type": "code",
      "source": [
        "train_accuracy_res = history_res.history['accuracy']\n",
        "val_accuracy_res = history_res.history['val_accuracy']\n",
        "\n",
        "train_error_res = []\n",
        "val_error_res = []\n",
        "\n",
        "for i in range(len(train_accuracy_res)):\n",
        "    train_error_res.append(1 - train_accuracy_res[i])\n",
        "    val_error_res.append(1 - val_accuracy_res[i])\n",
        "\n",
        "\n",
        "plt.plot(train_error_res)\n",
        "plt.plot(val_error_res)\n",
        "plt.title('ResNet50 - Training and Validation Errors vs. Epochs')\n",
        "plt.ylabel('error')\n",
        "plt.xlabel('epoch')\n",
        "plt.legend(['train', 'validation'], loc='upper right')\n",
        "plt.show()"
      ],
      "metadata": {
        "colab": {
          "base_uri": "https://localhost:8080/",
          "height": 472
        },
        "id": "IDJcUNc7Yas2",
        "outputId": "ac179061-cf79-49e8-decb-e7d9aed7aa96"
      },
      "execution_count": 77,
      "outputs": [
        {
          "output_type": "display_data",
          "data": {
            "text/plain": [
              "<Figure size 640x480 with 1 Axes>"
            ],
            "image/png": "[encoded data removed]"
          },
          "metadata": {}
        }
      ]
    },
    {
      "cell_type": "code",
      "source": [
        "# EfficientNetB0\n",
        "\n",
        "history_eff = model_eff.fit(train_generator, \n",
        "                            epochs = 100, \n",
        "                            batch_size = 5, \n",
        "                            validation_data = validation_generator, \n",
        "                            workers = 5,\n",
        "                            use_multiprocessing = True,\n",
        "                            callbacks = [es])"
      ],
      "metadata": {
        "colab": {
          "base_uri": "https://localhost:8080/"
        },
        "id": "AaMw81WLXQiu",
        "outputId": "a66c298c-6212-4250-a683-cdc17e39c6f7"
      },
      "execution_count": 11,
      "outputs": [
        {
          "output_type": "stream",
          "name": "stdout",
          "text": [
            "Epoch 1/100\n",
            "460/460 [==============================] - 309s 639ms/step - loss: 3.3903 - accuracy: 0.2089 - val_loss: 1.6435 - val_accuracy: 0.1700\n",
            "Epoch 2/100\n",
            "460/460 [==============================] - 21s 46ms/step - loss: 2.5864 - accuracy: 0.1950 - val_loss: 1.6216 - val_accuracy: 0.2287\n",
            "Epoch 3/100\n",
            "460/460 [==============================] - 21s 45ms/step - loss: 2.0685 - accuracy: 0.2067 - val_loss: 1.6096 - val_accuracy: 0.2166\n",
            "Epoch 4/100\n",
            "460/460 [==============================] - 21s 45ms/step - loss: 1.8435 - accuracy: 0.1945 - val_loss: 1.6152 - val_accuracy: 0.1518\n",
            "Epoch 5/100\n",
            "460/460 [==============================] - 21s 46ms/step - loss: 1.7098 - accuracy: 0.2180 - val_loss: 1.6057 - val_accuracy: 0.2186\n",
            "Epoch 6/100\n",
            "460/460 [==============================] - 22s 46ms/step - loss: 1.6559 - accuracy: 0.2154 - val_loss: 1.6081 - val_accuracy: 0.2227\n",
            "Epoch 7/100\n",
            "460/460 [==============================] - 24s 51ms/step - loss: 1.6356 - accuracy: 0.2037 - val_loss: 1.6075 - val_accuracy: 0.2186\n",
            "Epoch 8/100\n",
            "460/460 [==============================] - 21s 46ms/step - loss: 1.6204 - accuracy: 0.2084 - val_loss: 1.6134 - val_accuracy: 0.1154\n",
            "Epoch 9/100\n",
            "460/460 [==============================] - 22s 46ms/step - loss: 1.6272 - accuracy: 0.2254 - val_loss: 1.6065 - val_accuracy: 0.1862\n",
            "Epoch 10/100\n",
            "460/460 [==============================] - 22s 46ms/step - loss: 1.6202 - accuracy: 0.2176 - val_loss: 1.6042 - val_accuracy: 0.2247\n",
            "Epoch 11/100\n",
            "460/460 [==============================] - 22s 47ms/step - loss: 1.6162 - accuracy: 0.2285 - val_loss: 1.6043 - val_accuracy: 0.2166\n",
            "Epoch 12/100\n",
            "460/460 [==============================] - 22s 47ms/step - loss: 1.6223 - accuracy: 0.1945 - val_loss: 1.6035 - val_accuracy: 0.2247\n",
            "Epoch 13/100\n",
            "460/460 [==============================] - 21s 46ms/step - loss: 1.6116 - accuracy: 0.1958 - val_loss: 1.6025 - val_accuracy: 0.2247\n",
            "Epoch 14/100\n",
            "460/460 [==============================] - 21s 46ms/step - loss: 1.6099 - accuracy: 0.2102 - val_loss: 1.6021 - val_accuracy: 0.2247\n",
            "Epoch 15/100\n",
            "460/460 [==============================] - 21s 45ms/step - loss: 1.6060 - accuracy: 0.2054 - val_loss: 1.6015 - val_accuracy: 0.2247\n",
            "Epoch 16/100\n",
            "460/460 [==============================] - 22s 46ms/step - loss: 1.6090 - accuracy: 0.2280 - val_loss: 1.6009 - val_accuracy: 0.2247\n",
            "Epoch 17/100\n",
            "460/460 [==============================] - 21s 45ms/step - loss: 1.6044 - accuracy: 0.2258 - val_loss: 1.6006 - val_accuracy: 0.2247\n",
            "Epoch 18/100\n",
            "460/460 [==============================] - 22s 46ms/step - loss: 1.6035 - accuracy: 0.2193 - val_loss: 1.6003 - val_accuracy: 0.2247\n",
            "Epoch 19/100\n",
            "460/460 [==============================] - 22s 46ms/step - loss: 1.6020 - accuracy: 0.2254 - val_loss: 1.6000 - val_accuracy: 0.2247\n",
            "Epoch 20/100\n",
            "460/460 [==============================] - 22s 47ms/step - loss: 1.6008 - accuracy: 0.2263 - val_loss: 1.5999 - val_accuracy: 0.2247\n",
            "Epoch 21/100\n",
            "460/460 [==============================] - 22s 47ms/step - loss: 1.6015 - accuracy: 0.2089 - val_loss: 1.5998 - val_accuracy: 0.2247\n",
            "Epoch 22/100\n",
            "460/460 [==============================] - 22s 46ms/step - loss: 1.6004 - accuracy: 0.2258 - val_loss: 1.5997 - val_accuracy: 0.2247\n",
            "Epoch 23/100\n",
            "460/460 [==============================] - 21s 46ms/step - loss: 1.6002 - accuracy: 0.2254 - val_loss: 1.5997 - val_accuracy: 0.2247\n",
            "Epoch 24/100\n",
            "460/460 [==============================] - 22s 47ms/step - loss: 1.5999 - accuracy: 0.2254 - val_loss: 1.5996 - val_accuracy: 0.2247\n",
            "Epoch 25/100\n",
            "460/460 [==============================] - 22s 46ms/step - loss: 1.6004 - accuracy: 0.2241 - val_loss: 1.5996 - val_accuracy: 0.2247\n",
            "Epoch 26/100\n",
            "460/460 [==============================] - 21s 45ms/step - loss: 1.6019 - accuracy: 0.2245 - val_loss: 1.5996 - val_accuracy: 0.2247\n",
            "Epoch 27/100\n",
            "460/460 [==============================] - 21s 45ms/step - loss: 1.6007 - accuracy: 0.2289 - val_loss: 1.5996 - val_accuracy: 0.2247\n",
            "Epoch 28/100\n",
            "460/460 [==============================] - 22s 46ms/step - loss: 1.6001 - accuracy: 0.2254 - val_loss: 1.5996 - val_accuracy: 0.2247\n",
            "Epoch 29/100\n",
            "460/460 [==============================] - 22s 47ms/step - loss: 1.5999 - accuracy: 0.2258 - val_loss: 1.5996 - val_accuracy: 0.2247\n",
            "Epoch 30/100\n",
            "460/460 [==============================] - 22s 46ms/step - loss: 1.6001 - accuracy: 0.2124 - val_loss: 1.5996 - val_accuracy: 0.2247\n",
            "Epoch 31/100\n",
            "460/460 [==============================] - 22s 46ms/step - loss: 1.6000 - accuracy: 0.2258 - val_loss: 1.5996 - val_accuracy: 0.2247\n",
            "Epoch 32/100\n",
            "460/460 [==============================] - 21s 46ms/step - loss: 1.6001 - accuracy: 0.2258 - val_loss: 1.5996 - val_accuracy: 0.2247\n",
            "Epoch 33/100\n",
            "460/460 [==============================] - 22s 48ms/step - loss: 1.6007 - accuracy: 0.2258 - val_loss: 1.5996 - val_accuracy: 0.2247\n",
            "Epoch 34/100\n",
            "460/460 [==============================] - 22s 46ms/step - loss: 1.6000 - accuracy: 0.2150 - val_loss: 1.5996 - val_accuracy: 0.2247\n",
            "Epoch 35/100\n",
            "460/460 [==============================] - 22s 46ms/step - loss: 1.6001 - accuracy: 0.2258 - val_loss: 1.5996 - val_accuracy: 0.2247\n",
            "Epoch 36/100\n",
            "460/460 [==============================] - 21s 45ms/step - loss: 1.6001 - accuracy: 0.2258 - val_loss: 1.5996 - val_accuracy: 0.2247\n",
            "Epoch 37/100\n",
            "460/460 [==============================] - 22s 47ms/step - loss: 1.5999 - accuracy: 0.2258 - val_loss: 1.5996 - val_accuracy: 0.2247\n",
            "Epoch 38/100\n",
            "460/460 [==============================] - 22s 46ms/step - loss: 1.6001 - accuracy: 0.2258 - val_loss: 1.5996 - val_accuracy: 0.2247\n",
            "Epoch 39/100\n",
            "460/460 [==============================] - 22s 46ms/step - loss: 1.6000 - accuracy: 0.2258 - val_loss: 1.5996 - val_accuracy: 0.2247\n",
            "Epoch 40/100\n",
            "460/460 [==============================] - 22s 46ms/step - loss: 1.6000 - accuracy: 0.2258 - val_loss: 1.5996 - val_accuracy: 0.2247\n",
            "Epoch 41/100\n",
            "460/460 [==============================] - 22s 46ms/step - loss: 1.6002 - accuracy: 0.2258 - val_loss: 1.5996 - val_accuracy: 0.2247\n",
            "Epoch 42/100\n",
            "460/460 [==============================] - 22s 47ms/step - loss: 1.6011 - accuracy: 0.2258 - val_loss: 1.5996 - val_accuracy: 0.2247\n",
            "Epoch 43/100\n",
            "460/460 [==============================] - 22s 46ms/step - loss: 1.6000 - accuracy: 0.2263 - val_loss: 1.5996 - val_accuracy: 0.2247\n",
            "Epoch 44/100\n",
            "460/460 [==============================] - 22s 46ms/step - loss: 1.5999 - accuracy: 0.2254 - val_loss: 1.5996 - val_accuracy: 0.2247\n",
            "Epoch 45/100\n",
            "460/460 [==============================] - 22s 46ms/step - loss: 1.6001 - accuracy: 0.2258 - val_loss: 1.5996 - val_accuracy: 0.2247\n",
            "Epoch 46/100\n",
            "460/460 [==============================] - 22s 46ms/step - loss: 1.6000 - accuracy: 0.2063 - val_loss: 1.5996 - val_accuracy: 0.2247\n",
            "Epoch 47/100\n",
            "460/460 [==============================] - 22s 46ms/step - loss: 1.6002 - accuracy: 0.2258 - val_loss: 1.5996 - val_accuracy: 0.2247\n",
            "Epoch 48/100\n",
            "460/460 [==============================] - 22s 46ms/step - loss: 1.5999 - accuracy: 0.2258 - val_loss: 1.5996 - val_accuracy: 0.2247\n",
            "Epoch 49/100\n",
            "460/460 [==============================] - 22s 46ms/step - loss: 1.6001 - accuracy: 0.2258 - val_loss: 1.5996 - val_accuracy: 0.2247\n",
            "Epoch 50/100\n",
            "460/460 [==============================] - 22s 47ms/step - loss: 1.6001 - accuracy: 0.2258 - val_loss: 1.5996 - val_accuracy: 0.2247\n",
            "Epoch 51/100\n",
            "460/460 [==============================] - 22s 46ms/step - loss: 1.6000 - accuracy: 0.2258 - val_loss: 1.5996 - val_accuracy: 0.2247\n",
            "Epoch 52/100\n",
            "460/460 [==============================] - 22s 46ms/step - loss: 1.6001 - accuracy: 0.2141 - val_loss: 1.5996 - val_accuracy: 0.2247\n",
            "Epoch 53/100\n",
            "460/460 [==============================] - 22s 46ms/step - loss: 1.6000 - accuracy: 0.2258 - val_loss: 1.5996 - val_accuracy: 0.2247\n",
            "Epoch 54/100\n",
            "460/460 [==============================] - 22s 46ms/step - loss: 1.5999 - accuracy: 0.2258 - val_loss: 1.5996 - val_accuracy: 0.2247\n",
            "Epoch 55/100\n",
            "460/460 [==============================] - 22s 46ms/step - loss: 1.6000 - accuracy: 0.2258 - val_loss: 1.5996 - val_accuracy: 0.2247\n",
            "Epoch 56/100\n",
            "460/460 [==============================] - 21s 46ms/step - loss: 1.6002 - accuracy: 0.2258 - val_loss: 1.5996 - val_accuracy: 0.2247\n",
            "Epoch 57/100\n",
            "460/460 [==============================] - 22s 46ms/step - loss: 1.6001 - accuracy: 0.2258 - val_loss: 1.5996 - val_accuracy: 0.2247\n",
            "Epoch 58/100\n",
            "460/460 [==============================] - 22s 47ms/step - loss: 1.6000 - accuracy: 0.2258 - val_loss: 1.5996 - val_accuracy: 0.2247\n",
            "Epoch 59/100\n",
            "460/460 [==============================] - 22s 46ms/step - loss: 1.6001 - accuracy: 0.2258 - val_loss: 1.5996 - val_accuracy: 0.2247\n",
            "Epoch 60/100\n",
            "460/460 [==============================] - 22s 46ms/step - loss: 1.6000 - accuracy: 0.2258 - val_loss: 1.5996 - val_accuracy: 0.2247\n",
            "Epoch 61/100\n",
            "460/460 [==============================] - 22s 46ms/step - loss: 1.5999 - accuracy: 0.2258 - val_loss: 1.5996 - val_accuracy: 0.2247\n",
            "Epoch 62/100\n",
            "460/460 [==============================] - 22s 46ms/step - loss: 1.6001 - accuracy: 0.2258 - val_loss: 1.5996 - val_accuracy: 0.2247\n",
            "Epoch 63/100\n",
            "460/460 [==============================] - 22s 47ms/step - loss: 1.6001 - accuracy: 0.2258 - val_loss: 1.5996 - val_accuracy: 0.2247\n",
            "Epoch 64/100\n",
            "460/460 [==============================] - 22s 46ms/step - loss: 1.6000 - accuracy: 0.2258 - val_loss: 1.5996 - val_accuracy: 0.2247\n",
            "Epoch 65/100\n",
            "460/460 [==============================] - 21s 46ms/step - loss: 1.6001 - accuracy: 0.2258 - val_loss: 1.5996 - val_accuracy: 0.2247\n",
            "Epoch 66/100\n",
            "460/460 [==============================] - 22s 47ms/step - loss: 1.5998 - accuracy: 0.2258 - val_loss: 1.5996 - val_accuracy: 0.2247\n",
            "Epoch 67/100\n",
            "460/460 [==============================] - 22s 47ms/step - loss: 1.6002 - accuracy: 0.2258 - val_loss: 1.5996 - val_accuracy: 0.2247\n"
          ]
        }
      ]
    },
    {
      "cell_type": "code",
      "source": [
        "train_accuracy_eff = history_eff.history['accuracy']\n",
        "val_accuracy_eff = history_eff.history['val_accuracy']\n",
        "\n",
        "train_error_eff = []\n",
        "val_error_eff = []\n",
        "\n",
        "for i in range(len(train_accuracy_eff)):\n",
        "    train_error_eff.append(1 - train_accuracy_eff[i])\n",
        "    val_error_eff.append(1 - val_accuracy_eff[i])\n",
        "\n",
        "\n",
        "plt.plot(train_error_eff)\n",
        "plt.plot(val_error_eff)\n",
        "plt.title('EfficientNetB0 - Training and Validation Errors vs. Epochs')\n",
        "plt.ylabel('error')\n",
        "plt.xlabel('epoch')\n",
        "plt.legend(['train', 'validation'], loc='upper right')\n",
        "plt.show()"
      ],
      "metadata": {
        "colab": {
          "base_uri": "https://localhost:8080/",
          "height": 472
        },
        "id": "GJLawJbZYqsP",
        "outputId": "f57aa8a6-77a3-4454-9e49-42f9e3487132"
      },
      "execution_count": 12,
      "outputs": [
        {
          "output_type": "display_data",
          "data": {
            "text/plain": [
              "<Figure size 640x480 with 1 Axes>"
            ],
            "image/png": "[encoded data removed]"
          },
          "metadata": {}
        }
      ]
    },
    {
      "cell_type": "markdown",
      "source": [
        "**(v) Report the Confusion Matrix, Precision, Recall, Accuracy, and F1 score for your model on both training and test sets. Remember that this is a multi-class classification problem.**"
      ],
      "metadata": {
        "id": "NTQV-SkwY4cy"
      }
    },
    {
      "cell_type": "code",
      "source": [
        "# https://stackoverflow.com/questions/38971293/get-class-labels-from-keras-functional-model\n",
        "# https://studymachinelearning.com/keras-imagedatagenerator-with-flow_from_dataframe/\n",
        "# https://stackoverflow.com/questions/47435526/what-is-the-meaning-of-axis-1-in-keras-argmax\n",
        "\n",
        "# https://vitalflux.com/accuracy-precision-recall-f1-score-python-example/\n",
        "# https://scikit-learn.org/stable/modules/generated/sklearn.metrics.classification_report.html"
      ],
      "metadata": {
        "id": "T7Oabs4EsC1e"
      },
      "execution_count": null,
      "outputs": []
    },
    {
      "cell_type": "markdown",
      "source": [
        "**VGG16 - test** "
      ],
      "metadata": {
        "id": "YcP2KB7yQszB"
      }
    },
    {
      "cell_type": "code",
      "source": [
        "# VGG16 - test \n",
        "\n",
        "y_prob = model_vgg.predict(test_generator) \n",
        "y_classes = y_prob.argmax(axis=-1)\n"
      ],
      "metadata": {
        "colab": {
          "base_uri": "https://localhost:8080/"
        },
        "id": "edf1FM-c8ENo",
        "outputId": "8f591ee8-fb49-450c-eaed-1c1682d71292"
      },
      "execution_count": 42,
      "outputs": [
        {
          "output_type": "stream",
          "name": "stdout",
          "text": [
            "99/99 [==============================] - 4s 37ms/step\n"
          ]
        }
      ]
    },
    {
      "cell_type": "code",
      "source": [
        "print(classification_report(test_generator.classes, y_classes))"
      ],
      "metadata": {
        "colab": {
          "base_uri": "https://localhost:8080/"
        },
        "id": "hS2Qoz8NPdr6",
        "outputId": "857a362c-5505-4d37-e24b-6e2769819e8c"
      },
      "execution_count": 43,
      "outputs": [
        {
          "output_type": "stream",
          "name": "stdout",
          "text": [
            "              precision    recall  f1-score   support\n",
            "\n",
            "           0       0.63      0.75      0.69       111\n",
            "           1       0.60      0.50      0.54        74\n",
            "           2       0.49      0.56      0.52        95\n",
            "           3       0.61      0.69      0.65       107\n",
            "           4       0.65      0.43      0.52       107\n",
            "\n",
            "    accuracy                           0.59       494\n",
            "   macro avg       0.60      0.59      0.58       494\n",
            "weighted avg       0.60      0.59      0.59       494\n",
            "\n"
          ]
        }
      ]
    },
    {
      "cell_type": "code",
      "source": [
        "print('Confusion Matrix - VGG16 test \\n')\n",
        "print(confusion_matrix(y_true=test_generator.classes, y_pred=y_classes))\n"
      ],
      "metadata": {
        "colab": {
          "base_uri": "https://localhost:8080/"
        },
        "id": "Jy-PTTCk5E2D",
        "outputId": "f0548189-53f3-434c-d407-44c038a5a68b"
      },
      "execution_count": 44,
      "outputs": [
        {
          "output_type": "stream",
          "name": "stdout",
          "text": [
            "Confusion Matrix - VGG16 test \n",
            "\n",
            "[[83  5  8 13  2]\n",
            " [ 8 37  8 15  6]\n",
            " [22  3 53  9  8]\n",
            " [11  5  8 74  9]\n",
            " [ 7 12 32 10 46]]\n"
          ]
        }
      ]
    },
    {
      "cell_type": "code",
      "source": [
        "print('VGG16 test Accuracy: %.3f' % accuracy_score(test_generator.classes, y_classes))"
      ],
      "metadata": {
        "colab": {
          "base_uri": "https://localhost:8080/"
        },
        "id": "K6uEljKpb7vp",
        "outputId": "aa4bb4ce-cd2f-48d4-cdcd-2ca485ace6ca"
      },
      "execution_count": 45,
      "outputs": [
        {
          "output_type": "stream",
          "name": "stdout",
          "text": [
            "VGG16 test Accuracy: 0.593\n"
          ]
        }
      ]
    },
    {
      "cell_type": "markdown",
      "source": [
        "**VGG16 train** "
      ],
      "metadata": {
        "id": "j-JvWzwncHH0"
      }
    },
    {
      "cell_type": "code",
      "source": [
        "y_prob = model_vgg.predict(train_generator) \n",
        "y_classes = y_prob.argmax(axis=-1)\n",
        "print(classification_report(train_generator.classes, y_classes))"
      ],
      "metadata": {
        "colab": {
          "base_uri": "https://localhost:8080/"
        },
        "id": "pkcsrW4DcIzo",
        "outputId": "031b2538-2545-467e-f94c-b99d88d793da"
      },
      "execution_count": 46,
      "outputs": [
        {
          "output_type": "stream",
          "name": "stdout",
          "text": [
            "460/460 [==============================] - 34s 74ms/step\n",
            "              precision    recall  f1-score   support\n",
            "\n",
            "           0       0.56      0.71      0.63       519\n",
            "           1       0.69      0.50      0.58       344\n",
            "           2       0.61      0.56      0.59       435\n",
            "           3       0.52      0.68      0.59       500\n",
            "           4       0.66      0.43      0.52       500\n",
            "\n",
            "    accuracy                           0.59      2298\n",
            "   macro avg       0.61      0.58      0.58      2298\n",
            "weighted avg       0.60      0.59      0.58      2298\n",
            "\n"
          ]
        }
      ]
    },
    {
      "cell_type": "code",
      "source": [
        "print('Confusion Matrix - VGG16 train \\n')\n",
        "print(confusion_matrix(y_true=train_generator.classes, y_pred=y_classes))\n"
      ],
      "metadata": {
        "colab": {
          "base_uri": "https://localhost:8080/"
        },
        "id": "eBi4q25AcfmH",
        "outputId": "701d7db0-edb1-48ac-d9ae-f031444fea7f"
      },
      "execution_count": 47,
      "outputs": [
        {
          "output_type": "stream",
          "name": "stdout",
          "text": [
            "Confusion Matrix - VGG16 train \n",
            "\n",
            "[[371  15  24  87  22]\n",
            " [ 36 173  26  77  32]\n",
            " [ 75  11 245  75  29]\n",
            " [ 68  14  49 340  29]\n",
            " [112  38  56  77 217]]\n"
          ]
        }
      ]
    },
    {
      "cell_type": "code",
      "source": [
        "print('VGG16 train Accuracy: %.3f' % accuracy_score(train_generator.classes, y_classes))"
      ],
      "metadata": {
        "colab": {
          "base_uri": "https://localhost:8080/"
        },
        "id": "qlDp2Tf0cltC",
        "outputId": "115178d5-75ec-4aae-93b0-dd561fe377f4"
      },
      "execution_count": 48,
      "outputs": [
        {
          "output_type": "stream",
          "name": "stdout",
          "text": [
            "VGG16 train Accuracy: 0.586\n"
          ]
        }
      ]
    },
    {
      "cell_type": "markdown",
      "source": [
        "**EfficientNetB0 train** "
      ],
      "metadata": {
        "id": "aZPTWqmBcuMU"
      }
    },
    {
      "cell_type": "code",
      "source": [
        "y_prob = model_eff.predict(train_generator) \n",
        "y_classes = y_prob.argmax(axis=-1)\n",
        "print(classification_report(train_generator.classes, y_classes))"
      ],
      "metadata": {
        "colab": {
          "base_uri": "https://localhost:8080/"
        },
        "id": "4MOmm4fMcwmB",
        "outputId": "51c2005b-579e-4a78-ebb1-a516f39116a3"
      },
      "execution_count": 13,
      "outputs": [
        {
          "output_type": "stream",
          "name": "stdout",
          "text": [
            "460/460 [==============================] - 34s 71ms/step\n",
            "              precision    recall  f1-score   support\n",
            "\n",
            "           0       0.23      1.00      0.37       519\n",
            "           1       0.00      0.00      0.00       344\n",
            "           2       0.00      0.00      0.00       435\n",
            "           3       0.00      0.00      0.00       500\n",
            "           4       0.00      0.00      0.00       500\n",
            "\n",
            "    accuracy                           0.23      2298\n",
            "   macro avg       0.05      0.20      0.07      2298\n",
            "weighted avg       0.05      0.23      0.08      2298\n",
            "\n"
          ]
        },
        {
          "output_type": "stream",
          "name": "stderr",
          "text": [
            "/usr/local/lib/python3.10/dist-packages/sklearn/metrics/_classification.py:1344: UndefinedMetricWarning: Precision and F-score are ill-defined and being set to 0.0 in labels with no predicted samples. Use `zero_division` parameter to control this behavior.\n",
            "  _warn_prf(average, modifier, msg_start, len(result))\n",
            "/usr/local/lib/python3.10/dist-packages/sklearn/metrics/_classification.py:1344: UndefinedMetricWarning: Precision and F-score are ill-defined and being set to 0.0 in labels with no predicted samples. Use `zero_division` parameter to control this behavior.\n",
            "  _warn_prf(average, modifier, msg_start, len(result))\n",
            "/usr/local/lib/python3.10/dist-packages/sklearn/metrics/_classification.py:1344: UndefinedMetricWarning: Precision and F-score are ill-defined and being set to 0.0 in labels with no predicted samples. Use `zero_division` parameter to control this behavior.\n",
            "  _warn_prf(average, modifier, msg_start, len(result))\n"
          ]
        }
      ]
    },
    {
      "cell_type": "code",
      "source": [
        "print('Confusion Matrix - EfficientNetB0 train \\n')\n",
        "print(confusion_matrix(y_true=train_generator.classes, y_pred=y_classes))\n"
      ],
      "metadata": {
        "colab": {
          "base_uri": "https://localhost:8080/"
        },
        "id": "uUYaw4Swc1_s",
        "outputId": "59cb629b-1181-46f3-bf1c-634241d76f5a"
      },
      "execution_count": 14,
      "outputs": [
        {
          "output_type": "stream",
          "name": "stdout",
          "text": [
            "Confusion Matrix - EfficientNetB0 train \n",
            "\n",
            "[[519   0   0   0   0]\n",
            " [344   0   0   0   0]\n",
            " [435   0   0   0   0]\n",
            " [500   0   0   0   0]\n",
            " [500   0   0   0   0]]\n"
          ]
        }
      ]
    },
    {
      "cell_type": "code",
      "source": [
        "print('EfficientNetB0 train Accuracy: %.3f' % accuracy_score(train_generator.classes, y_classes))"
      ],
      "metadata": {
        "colab": {
          "base_uri": "https://localhost:8080/"
        },
        "id": "f98N2JrFc6RD",
        "outputId": "3a05ca83-5037-4aba-b6c1-9f5472a4eaf3"
      },
      "execution_count": 15,
      "outputs": [
        {
          "output_type": "stream",
          "name": "stdout",
          "text": [
            "EfficientNetB0 train Accuracy: 0.226\n"
          ]
        }
      ]
    },
    {
      "cell_type": "markdown",
      "source": [
        "**EfficientNetB0 test** "
      ],
      "metadata": {
        "id": "iLFpkf6odH03"
      }
    },
    {
      "cell_type": "code",
      "source": [
        "y_prob = model_eff.predict(test_generator) \n",
        "y_classes = y_prob.argmax(axis=-1)\n"
      ],
      "metadata": {
        "colab": {
          "base_uri": "https://localhost:8080/"
        },
        "id": "GrywNPCgdMCK",
        "outputId": "a439d062-fcc8-4ec7-b19b-032df7e1a911"
      },
      "execution_count": 16,
      "outputs": [
        {
          "output_type": "stream",
          "name": "stdout",
          "text": [
            "99/99 [==============================] - 2s 24ms/step\n"
          ]
        }
      ]
    },
    {
      "cell_type": "code",
      "source": [
        "print(classification_report(test_generator.classes, y_classes))"
      ],
      "metadata": {
        "colab": {
          "base_uri": "https://localhost:8080/"
        },
        "id": "oeItXXnZdOdp",
        "outputId": "2049a8f8-8b63-41e9-ee68-19028d514f07"
      },
      "execution_count": 17,
      "outputs": [
        {
          "output_type": "stream",
          "name": "stdout",
          "text": [
            "              precision    recall  f1-score   support\n",
            "\n",
            "           0       0.22      1.00      0.37       111\n",
            "           1       0.00      0.00      0.00        74\n",
            "           2       0.00      0.00      0.00        95\n",
            "           3       0.00      0.00      0.00       107\n",
            "           4       0.00      0.00      0.00       107\n",
            "\n",
            "    accuracy                           0.22       494\n",
            "   macro avg       0.04      0.20      0.07       494\n",
            "weighted avg       0.05      0.22      0.08       494\n",
            "\n"
          ]
        },
        {
          "output_type": "stream",
          "name": "stderr",
          "text": [
            "/usr/local/lib/python3.10/dist-packages/sklearn/metrics/_classification.py:1344: UndefinedMetricWarning: Precision and F-score are ill-defined and being set to 0.0 in labels with no predicted samples. Use `zero_division` parameter to control this behavior.\n",
            "  _warn_prf(average, modifier, msg_start, len(result))\n",
            "/usr/local/lib/python3.10/dist-packages/sklearn/metrics/_classification.py:1344: UndefinedMetricWarning: Precision and F-score are ill-defined and being set to 0.0 in labels with no predicted samples. Use `zero_division` parameter to control this behavior.\n",
            "  _warn_prf(average, modifier, msg_start, len(result))\n",
            "/usr/local/lib/python3.10/dist-packages/sklearn/metrics/_classification.py:1344: UndefinedMetricWarning: Precision and F-score are ill-defined and being set to 0.0 in labels with no predicted samples. Use `zero_division` parameter to control this behavior.\n",
            "  _warn_prf(average, modifier, msg_start, len(result))\n"
          ]
        }
      ]
    },
    {
      "cell_type": "code",
      "source": [
        "print('Confusion Matrix - EfficientNetB0 test \\n')\n",
        "print(confusion_matrix(y_true=test_generator.classes, y_pred=y_classes))\n"
      ],
      "metadata": {
        "colab": {
          "base_uri": "https://localhost:8080/"
        },
        "id": "gDzd9vSHdS2I",
        "outputId": "5ac7efb4-4c44-4c04-9970-f81cd568b24b"
      },
      "execution_count": 18,
      "outputs": [
        {
          "output_type": "stream",
          "name": "stdout",
          "text": [
            "Confusion Matrix - EfficientNetB0 test \n",
            "\n",
            "[[111   0   0   0   0]\n",
            " [ 74   0   0   0   0]\n",
            " [ 95   0   0   0   0]\n",
            " [107   0   0   0   0]\n",
            " [107   0   0   0   0]]\n"
          ]
        }
      ]
    },
    {
      "cell_type": "code",
      "source": [
        "print('EfficientNetB0 test Accuracy: %.3f' % accuracy_score(test_generator.classes, y_classes))"
      ],
      "metadata": {
        "colab": {
          "base_uri": "https://localhost:8080/"
        },
        "id": "iD0gtbV_dXis",
        "outputId": "dc9e4a0a-1098-4847-f2cb-ae96c0b38b85"
      },
      "execution_count": 19,
      "outputs": [
        {
          "output_type": "stream",
          "name": "stdout",
          "text": [
            "EfficientNetB0 test Accuracy: 0.225\n"
          ]
        }
      ]
    },
    {
      "cell_type": "markdown",
      "source": [
        "**ResNet50 train** "
      ],
      "metadata": {
        "id": "bS75PVm2dc8S"
      }
    },
    {
      "cell_type": "code",
      "source": [
        "y_prob = model_res.predict(train_generator) \n",
        "y_classes = y_prob.argmax(axis=-1)\n",
        "print(classification_report(train_generator.classes, y_classes))"
      ],
      "metadata": {
        "colab": {
          "base_uri": "https://localhost:8080/"
        },
        "id": "2FVYCo-XdetE",
        "outputId": "86ba9e57-fc19-4137-a25e-f39fc3997487"
      },
      "execution_count": 78,
      "outputs": [
        {
          "output_type": "stream",
          "name": "stdout",
          "text": [
            "460/460 [==============================] - 33s 69ms/step\n",
            "              precision    recall  f1-score   support\n",
            "\n",
            "           0       0.37      0.20      0.26       519\n",
            "           1       0.27      0.29      0.28       344\n",
            "           2       0.38      0.27      0.32       435\n",
            "           3       0.28      0.37      0.32       500\n",
            "           4       0.30      0.42      0.35       500\n",
            "\n",
            "    accuracy                           0.31      2298\n",
            "   macro avg       0.32      0.31      0.31      2298\n",
            "weighted avg       0.32      0.31      0.31      2298\n",
            "\n"
          ]
        }
      ]
    },
    {
      "cell_type": "code",
      "source": [
        "print('Confusion Matrix - ResNet50 train \\n')\n",
        "print(confusion_matrix(y_true=train_generator.classes, y_pred=y_classes))"
      ],
      "metadata": {
        "colab": {
          "base_uri": "https://localhost:8080/"
        },
        "id": "51dAK176dlTQ",
        "outputId": "9c54d9ed-f3a0-4b79-915c-994216ae2f95"
      },
      "execution_count": 79,
      "outputs": [
        {
          "output_type": "stream",
          "name": "stdout",
          "text": [
            "Confusion Matrix - ResNet50 train \n",
            "\n",
            "[[103  70  48 165 133]\n",
            " [ 26  99  28  80 111]\n",
            " [ 33  52 118 122 110]\n",
            " [ 82  71  35 187 125]\n",
            " [ 32  76  81 103 208]]\n"
          ]
        }
      ]
    },
    {
      "cell_type": "code",
      "source": [
        "print('ResNet50 train Accuracy: %.3f' % accuracy_score(train_generator.classes, y_classes))"
      ],
      "metadata": {
        "colab": {
          "base_uri": "https://localhost:8080/"
        },
        "id": "BQcxPE9Rd9Wv",
        "outputId": "5937e52b-16d9-4267-af61-fba08d07b1f6"
      },
      "execution_count": 80,
      "outputs": [
        {
          "output_type": "stream",
          "name": "stdout",
          "text": [
            "ResNet50 train Accuracy: 0.311\n"
          ]
        }
      ]
    },
    {
      "cell_type": "markdown",
      "source": [
        "**ResNet50 test** "
      ],
      "metadata": {
        "id": "-COYM1kfeKMq"
      }
    },
    {
      "cell_type": "code",
      "source": [
        "y_prob = model_res.predict(test_generator) \n",
        "y_classes = y_prob.argmax(axis=-1)\n",
        "print(classification_report(test_generator.classes, y_classes))"
      ],
      "metadata": {
        "colab": {
          "base_uri": "https://localhost:8080/"
        },
        "id": "kWqTSjjOeL02",
        "outputId": "31c18003-f2da-4bfd-ca99-b516cd56155e"
      },
      "execution_count": 81,
      "outputs": [
        {
          "output_type": "stream",
          "name": "stdout",
          "text": [
            "99/99 [==============================] - 3s 29ms/step\n",
            "              precision    recall  f1-score   support\n",
            "\n",
            "           0       0.23      0.06      0.10       111\n",
            "           1       0.36      0.45      0.40        74\n",
            "           2       0.35      0.24      0.29        95\n",
            "           3       0.30      0.39      0.34       107\n",
            "           4       0.40      0.63      0.49       107\n",
            "\n",
            "    accuracy                           0.35       494\n",
            "   macro avg       0.33      0.35      0.32       494\n",
            "weighted avg       0.32      0.35      0.32       494\n",
            "\n"
          ]
        }
      ]
    },
    {
      "cell_type": "code",
      "source": [
        "print('Confusion Matrix - ResNet50 test \\n')\n",
        "print(confusion_matrix(y_true=test_generator.classes, y_pred=y_classes))"
      ],
      "metadata": {
        "colab": {
          "base_uri": "https://localhost:8080/"
        },
        "id": "03MOA1RKeQnp",
        "outputId": "8e8dc489-d18a-427e-8595-cd85f6598456"
      },
      "execution_count": 82,
      "outputs": [
        {
          "output_type": "stream",
          "name": "stdout",
          "text": [
            "Confusion Matrix - ResNet50 test \n",
            "\n",
            "[[ 7 16 10 50 28]\n",
            " [ 1 33  8 13 19]\n",
            " [ 7 15 23 24 26]\n",
            " [15 13 11 42 26]\n",
            " [ 1 14 14 11 67]]\n"
          ]
        }
      ]
    },
    {
      "cell_type": "code",
      "source": [
        "print('ResNet50 test Accuracy: %.3f' % accuracy_score(test_generator.classes, y_classes))"
      ],
      "metadata": {
        "colab": {
          "base_uri": "https://localhost:8080/"
        },
        "id": "dpXtcNUKeTS0",
        "outputId": "f68d8a3f-68b1-4cbc-bf89-16991009c759"
      },
      "execution_count": 83,
      "outputs": [
        {
          "output_type": "stream",
          "name": "stdout",
          "text": [
            "ResNet50 test Accuracy: 0.348\n"
          ]
        }
      ]
    },
    {
      "cell_type": "markdown",
      "source": [
        "**(f) Video Classification Using Moving Averages**"
      ],
      "metadata": {
        "id": "lTWI7JlqeZZ7"
      }
    },
    {
      "cell_type": "markdown",
      "source": [
        "**(i) In order to have a better deep learner, reuse the validation and test data and train the network, without seriously overfitting it. In the lectures, we saw how this can be done.**"
      ],
      "metadata": {
        "id": "iido4q0zeecH"
      }
    },
    {
      "cell_type": "code",
      "source": [
        "# https://machinelearningmastery.com/update-neural-network-models-with-more-data/\n",
        "# https://stats.stackexchange.com/questions/352750/is-there-a-way-to-incorporate-new-data-into-an-already-trained-neural-network-wi\n",
        "\n"
      ],
      "metadata": {
        "id": "3qma56BHekW0"
      },
      "execution_count": null,
      "outputs": []
    },
    {
      "cell_type": "code",
      "source": [
        "# retain with all train, validation, and test data\n",
        "\n",
        "total_dir = '/content/drive/MyDrive/Colab Notebooks/project/data/Sport_Images'\n",
        "# this is same as the train_datagen\n",
        "new_total_datagen = ImageDataGenerator(rescale = 1.0/255.,\n",
        "                                   rotation_range = 40, \n",
        "                                   width_shift_range = 0.2, \n",
        "                                   height_shift_range = 0.2, \n",
        "                                   shear_range = 0.2, \n",
        "                                   zoom_range = 0.2, \n",
        "                                   horizontal_flip = True)\n",
        "\n",
        "new_total_generator = new_total_datagen.flow_from_directory(total_dir, \n",
        "                                                    batch_size = 5, \n",
        "                                                    classes = ['baseball', 'basketball','fencing','tennis','volleyball'],\n",
        "                                                    class_mode = 'categorical', \n",
        "                                                    target_size = (224, 224),\n",
        "                                                    shuffle = False,\n",
        "                                                    seed=42)\n",
        "\n",
        " "
      ],
      "metadata": {
        "colab": {
          "base_uri": "https://localhost:8080/"
        },
        "id": "E5YgGAaeuiQp",
        "outputId": "3f784108-66c6-42e9-887f-c1d47fd3547c"
      },
      "execution_count": 20,
      "outputs": [
        {
          "output_type": "stream",
          "name": "stdout",
          "text": [
            "Found 3282 images belonging to 5 classes.\n"
          ]
        }
      ]
    },
    {
      "cell_type": "code",
      "source": [
        "new_total_generator.classes"
      ],
      "metadata": {
        "colab": {
          "base_uri": "https://localhost:8080/"
        },
        "id": "NcVim7exkHET",
        "outputId": "16d9a6d6-3e0d-4838-9bd3-8c2024ff10d0"
      },
      "execution_count": null,
      "outputs": [
        {
          "output_type": "execute_result",
          "data": {
            "text/plain": [
              "array([0, 0, 0, ..., 4, 4, 4], dtype=int32)"
            ]
          },
          "metadata": {},
          "execution_count": 20
        }
      ]
    },
    {
      "cell_type": "markdown",
      "source": [
        "**VGG16** "
      ],
      "metadata": {
        "id": "bHG73JcMxIiq"
      }
    },
    {
      "cell_type": "code",
      "source": [
        "# VGG16 \n",
        "model_vgg.save('/content/drive/MyDrive/Colab Notebooks/project/notebook/model/old_vgg_model.h5')\n"
      ],
      "metadata": {
        "id": "i3kGxOWiuPia"
      },
      "execution_count": 49,
      "outputs": []
    },
    {
      "cell_type": "code",
      "source": [
        "model_new_vgg = load_model('/content/drive/MyDrive/Colab Notebooks/project/notebook/model/old_vgg_model.h5')"
      ],
      "metadata": {
        "id": "6-xjhrl8y1AF"
      },
      "execution_count": 50,
      "outputs": []
    },
    {
      "cell_type": "code",
      "source": [
        "history_new_vgg = model_new_vgg.fit(new_total_generator,\n",
        "                  epochs = 24, \n",
        "                  batch_size = 5,\n",
        "                  workers = 5,\n",
        "                  use_multiprocessing = True\n",
        "                  )"
      ],
      "metadata": {
        "colab": {
          "base_uri": "https://localhost:8080/"
        },
        "id": "sstpy2C7y8Vd",
        "outputId": "4b46ce2c-204b-4aa8-f1b2-1b2fadb70041"
      },
      "execution_count": 51,
      "outputs": [
        {
          "output_type": "stream",
          "name": "stdout",
          "text": [
            "Epoch 1/24\n",
            "657/657 [==============================] - 29s 43ms/step - loss: 0.8886 - accuracy: 0.6661\n",
            "Epoch 2/24\n",
            "657/657 [==============================] - 28s 41ms/step - loss: 0.6666 - accuracy: 0.7566\n",
            "Epoch 3/24\n",
            "657/657 [==============================] - 28s 41ms/step - loss: 0.5737 - accuracy: 0.7956\n",
            "Epoch 4/24\n",
            "657/657 [==============================] - 28s 41ms/step - loss: 0.5003 - accuracy: 0.8178\n",
            "Epoch 5/24\n",
            "657/657 [==============================] - 28s 42ms/step - loss: 0.4435 - accuracy: 0.8440\n",
            "Epoch 6/24\n",
            "657/657 [==============================] - 27s 41ms/step - loss: 0.4315 - accuracy: 0.8507\n",
            "Epoch 7/24\n",
            "657/657 [==============================] - 28s 41ms/step - loss: 0.4083 - accuracy: 0.8531\n",
            "Epoch 8/24\n",
            "657/657 [==============================] - 28s 41ms/step - loss: 0.3341 - accuracy: 0.8851\n",
            "Epoch 9/24\n",
            "657/657 [==============================] - 28s 41ms/step - loss: 0.3171 - accuracy: 0.8857\n",
            "Epoch 10/24\n",
            "657/657 [==============================] - 28s 42ms/step - loss: 0.3407 - accuracy: 0.8769\n",
            "Epoch 11/24\n",
            "657/657 [==============================] - 28s 41ms/step - loss: 0.3208 - accuracy: 0.8876\n",
            "Epoch 12/24\n",
            "657/657 [==============================] - 28s 41ms/step - loss: 0.2802 - accuracy: 0.9059\n",
            "Epoch 13/24\n",
            "657/657 [==============================] - 28s 41ms/step - loss: 0.2841 - accuracy: 0.9016\n",
            "Epoch 14/24\n",
            "657/657 [==============================] - 28s 41ms/step - loss: 0.2718 - accuracy: 0.9034\n",
            "Epoch 15/24\n",
            "657/657 [==============================] - 28s 41ms/step - loss: 0.2262 - accuracy: 0.9183\n",
            "Epoch 16/24\n",
            "657/657 [==============================] - 28s 41ms/step - loss: 0.2512 - accuracy: 0.9141\n",
            "Epoch 17/24\n",
            "657/657 [==============================] - 27s 41ms/step - loss: 0.2445 - accuracy: 0.9171\n",
            "Epoch 18/24\n",
            "657/657 [==============================] - 28s 41ms/step - loss: 0.2405 - accuracy: 0.9162\n",
            "Epoch 19/24\n",
            "657/657 [==============================] - 27s 41ms/step - loss: 0.2375 - accuracy: 0.9229\n",
            "Epoch 20/24\n",
            "657/657 [==============================] - 28s 41ms/step - loss: 0.2430 - accuracy: 0.9171\n",
            "Epoch 21/24\n",
            "657/657 [==============================] - 27s 41ms/step - loss: 0.2309 - accuracy: 0.9180\n",
            "Epoch 22/24\n",
            "657/657 [==============================] - 28s 41ms/step - loss: 0.2129 - accuracy: 0.9247\n",
            "Epoch 23/24\n",
            "657/657 [==============================] - 28s 41ms/step - loss: 0.1867 - accuracy: 0.9345\n",
            "Epoch 24/24\n",
            "657/657 [==============================] - 28s 42ms/step - loss: 0.2161 - accuracy: 0.9226\n"
          ]
        }
      ]
    },
    {
      "cell_type": "code",
      "source": [
        "new_model_path = '/content/drive/MyDrive/Colab Notebooks/project/notebook/model/new_vgg_model.h5'\n",
        "model_new_vgg.save(new_model_path)"
      ],
      "metadata": {
        "id": "UOZ--T9bcgYg"
      },
      "execution_count": 52,
      "outputs": []
    },
    {
      "cell_type": "markdown",
      "source": [
        "**ResNet50**"
      ],
      "metadata": {
        "id": "Nq2a5_UdbVxY"
      }
    },
    {
      "cell_type": "code",
      "source": [
        "# ResNet50\n",
        "model_res.save('/content/drive/MyDrive/Colab Notebooks/project/notebook/model/old_res_model.h5')"
      ],
      "metadata": {
        "id": "_ZoNIGUa2QU8"
      },
      "execution_count": 84,
      "outputs": []
    },
    {
      "cell_type": "code",
      "source": [
        "model_new_res = load_model('/content/drive/MyDrive/Colab Notebooks/project/notebook/model/old_res_model.h5')"
      ],
      "metadata": {
        "id": "up4Gaet3zeUO"
      },
      "execution_count": 85,
      "outputs": []
    },
    {
      "cell_type": "code",
      "source": [
        "history_new_res = model_new_res.fit(new_total_generator,\n",
        "                                    epochs = 27, \n",
        "                                    batch_size = 5,\n",
        "                                    workers = 5,\n",
        "                                    use_multiprocessing = True\n",
        "                                    )"
      ],
      "metadata": {
        "id": "2AbDCAH3zesm",
        "colab": {
          "base_uri": "https://localhost:8080/"
        },
        "outputId": "e66603bf-0bd5-4686-aadb-76f2342646ef"
      },
      "execution_count": 86,
      "outputs": [
        {
          "output_type": "stream",
          "name": "stdout",
          "text": [
            "Epoch 1/27\n",
            "657/657 [==============================] - 30s 40ms/step - loss: 1.6150 - accuracy: 0.3565\n",
            "Epoch 2/27\n",
            "657/657 [==============================] - 25s 37ms/step - loss: 1.4262 - accuracy: 0.3952\n",
            "Epoch 3/27\n",
            "657/657 [==============================] - 26s 38ms/step - loss: 1.4190 - accuracy: 0.4077\n",
            "Epoch 4/27\n",
            "657/657 [==============================] - 26s 39ms/step - loss: 1.3991 - accuracy: 0.4138\n",
            "Epoch 5/27\n",
            "657/657 [==============================] - 25s 38ms/step - loss: 1.3928 - accuracy: 0.4180\n",
            "Epoch 6/27\n",
            "657/657 [==============================] - 26s 39ms/step - loss: 1.3792 - accuracy: 0.4095\n",
            "Epoch 7/27\n",
            "657/657 [==============================] - 26s 39ms/step - loss: 1.3706 - accuracy: 0.4205\n",
            "Epoch 8/27\n",
            "657/657 [==============================] - 26s 38ms/step - loss: 1.3403 - accuracy: 0.4470\n",
            "Epoch 9/27\n",
            "657/657 [==============================] - 27s 40ms/step - loss: 1.3428 - accuracy: 0.4305\n",
            "Epoch 10/27\n",
            "657/657 [==============================] - 26s 38ms/step - loss: 1.3340 - accuracy: 0.4409\n",
            "Epoch 11/27\n",
            "657/657 [==============================] - 26s 38ms/step - loss: 1.3269 - accuracy: 0.4290\n",
            "Epoch 12/27\n",
            "657/657 [==============================] - 27s 40ms/step - loss: 1.3091 - accuracy: 0.4580\n",
            "Epoch 13/27\n",
            "657/657 [==============================] - 25s 38ms/step - loss: 1.3174 - accuracy: 0.4406\n",
            "Epoch 14/27\n",
            "657/657 [==============================] - 26s 39ms/step - loss: 1.2961 - accuracy: 0.4482\n",
            "Epoch 15/27\n",
            "657/657 [==============================] - 26s 38ms/step - loss: 1.3114 - accuracy: 0.4512\n",
            "Epoch 16/27\n",
            "657/657 [==============================] - 25s 38ms/step - loss: 1.3006 - accuracy: 0.4503\n",
            "Epoch 17/27\n",
            "657/657 [==============================] - 26s 39ms/step - loss: 1.3140 - accuracy: 0.4391\n",
            "Epoch 18/27\n",
            "657/657 [==============================] - 26s 38ms/step - loss: 1.3018 - accuracy: 0.4427\n",
            "Epoch 19/27\n",
            "657/657 [==============================] - 26s 38ms/step - loss: 1.2823 - accuracy: 0.4637\n",
            "Epoch 20/27\n",
            "657/657 [==============================] - 26s 39ms/step - loss: 1.2616 - accuracy: 0.4802\n",
            "Epoch 21/27\n",
            "657/657 [==============================] - 26s 38ms/step - loss: 1.2878 - accuracy: 0.4647\n",
            "Epoch 22/27\n",
            "657/657 [==============================] - 26s 39ms/step - loss: 1.2905 - accuracy: 0.4570\n",
            "Epoch 23/27\n",
            "657/657 [==============================] - 26s 39ms/step - loss: 1.2667 - accuracy: 0.4771\n",
            "Epoch 24/27\n",
            "657/657 [==============================] - 25s 38ms/step - loss: 1.2473 - accuracy: 0.4650\n",
            "Epoch 25/27\n",
            "657/657 [==============================] - 27s 40ms/step - loss: 1.2265 - accuracy: 0.4881\n",
            "Epoch 26/27\n",
            "657/657 [==============================] - 26s 38ms/step - loss: 1.2592 - accuracy: 0.4759\n",
            "Epoch 27/27\n",
            "657/657 [==============================] - 25s 38ms/step - loss: 1.2446 - accuracy: 0.4811\n"
          ]
        }
      ]
    },
    {
      "cell_type": "code",
      "source": [
        "new_model_path = '/content/drive/MyDrive/Colab Notebooks/project/notebook/model/new_res_model.h5'\n",
        "model_new_res.save(new_model_path)"
      ],
      "metadata": {
        "id": "sDSoiECaPJ61"
      },
      "execution_count": 87,
      "outputs": []
    },
    {
      "cell_type": "markdown",
      "source": [
        "**EfficientNetB0**"
      ],
      "metadata": {
        "id": "8xMQhZAS0Xqd"
      }
    },
    {
      "cell_type": "code",
      "source": [
        "# EfficientNetB0\n"
      ],
      "metadata": {
        "id": "ey7QOP8u2w2Z"
      },
      "execution_count": 21,
      "outputs": []
    },
    {
      "cell_type": "code",
      "source": [
        "model_eff.save('/content/drive/MyDrive/Colab Notebooks/project/notebook/model/old_eff_model.h5')"
      ],
      "metadata": {
        "id": "bg4eJsrnfzxS"
      },
      "execution_count": null,
      "outputs": []
    },
    {
      "cell_type": "code",
      "source": [
        "model_new_eff = load_model('/content/drive/MyDrive/Colab Notebooks/project/notebook/model/old_eff_model.h5')"
      ],
      "metadata": {
        "id": "Vg5OzfkE25Pc"
      },
      "execution_count": 22,
      "outputs": []
    },
    {
      "cell_type": "code",
      "source": [
        "history_new_eff = model_new_eff.fit(new_total_generator,\n",
        "                                    epochs = 67, \n",
        "                                    batch_size = 5,\n",
        "                                    workers = 5,\n",
        "                                    use_multiprocessing = True)"
      ],
      "metadata": {
        "id": "6lphzhF527vV",
        "colab": {
          "base_uri": "https://localhost:8080/"
        },
        "outputId": "48e7e814-b3f8-456d-ebea-0c5e83c3d2e5"
      },
      "execution_count": 23,
      "outputs": [
        {
          "output_type": "stream",
          "name": "stdout",
          "text": [
            "Epoch 1/67\n",
            "657/657 [==============================] - 318s 474ms/step - loss: 1.6000 - accuracy: 0.2258\n",
            "Epoch 2/67\n",
            "657/657 [==============================] - 26s 39ms/step - loss: 1.5999 - accuracy: 0.2258\n",
            "Epoch 3/67\n",
            "657/657 [==============================] - 26s 39ms/step - loss: 1.6000 - accuracy: 0.2258\n",
            "Epoch 4/67\n",
            "657/657 [==============================] - 25s 38ms/step - loss: 1.6002 - accuracy: 0.2258\n",
            "Epoch 5/67\n",
            "657/657 [==============================] - 27s 40ms/step - loss: 1.6000 - accuracy: 0.2258\n",
            "Epoch 6/67\n",
            "657/657 [==============================] - 25s 38ms/step - loss: 1.6000 - accuracy: 0.2258\n",
            "Epoch 7/67\n",
            "657/657 [==============================] - 26s 38ms/step - loss: 1.6001 - accuracy: 0.2258\n",
            "Epoch 8/67\n",
            "657/657 [==============================] - 26s 39ms/step - loss: 1.6001 - accuracy: 0.2258\n",
            "Epoch 9/67\n",
            "657/657 [==============================] - 26s 38ms/step - loss: 1.6000 - accuracy: 0.2105\n",
            "Epoch 10/67\n",
            "657/657 [==============================] - 27s 40ms/step - loss: 1.6000 - accuracy: 0.2258\n",
            "Epoch 11/67\n",
            "657/657 [==============================] - 25s 38ms/step - loss: 1.6000 - accuracy: 0.2258\n",
            "Epoch 12/67\n",
            "657/657 [==============================] - 26s 39ms/step - loss: 1.6001 - accuracy: 0.2258\n",
            "Epoch 13/67\n",
            "657/657 [==============================] - 26s 39ms/step - loss: 1.6000 - accuracy: 0.2258\n",
            "Epoch 14/67\n",
            "657/657 [==============================] - 27s 40ms/step - loss: 1.5999 - accuracy: 0.2258\n",
            "Epoch 15/67\n",
            "657/657 [==============================] - 26s 39ms/step - loss: 1.6001 - accuracy: 0.2258\n",
            "Epoch 16/67\n",
            "657/657 [==============================] - 25s 38ms/step - loss: 1.6001 - accuracy: 0.2258\n",
            "Epoch 17/67\n",
            "657/657 [==============================] - 27s 40ms/step - loss: 1.5999 - accuracy: 0.2258\n",
            "Epoch 18/67\n",
            "657/657 [==============================] - 26s 38ms/step - loss: 1.6000 - accuracy: 0.2258\n",
            "Epoch 19/67\n",
            "657/657 [==============================] - 27s 40ms/step - loss: 1.6000 - accuracy: 0.2258\n",
            "Epoch 20/67\n",
            "657/657 [==============================] - 26s 38ms/step - loss: 1.5999 - accuracy: 0.2258\n",
            "Epoch 21/67\n",
            "657/657 [==============================] - 27s 40ms/step - loss: 1.6000 - accuracy: 0.2258\n",
            "Epoch 22/67\n",
            "657/657 [==============================] - 26s 39ms/step - loss: 1.6000 - accuracy: 0.2197\n",
            "Epoch 23/67\n",
            "657/657 [==============================] - 26s 38ms/step - loss: 1.6000 - accuracy: 0.2258\n",
            "Epoch 24/67\n",
            "657/657 [==============================] - 27s 40ms/step - loss: 1.6000 - accuracy: 0.2258\n",
            "Epoch 25/67\n",
            "657/657 [==============================] - 25s 38ms/step - loss: 1.6000 - accuracy: 0.2182\n",
            "Epoch 26/67\n",
            "657/657 [==============================] - 27s 40ms/step - loss: 1.6000 - accuracy: 0.2121\n",
            "Epoch 27/67\n",
            "657/657 [==============================] - 26s 38ms/step - loss: 1.5999 - accuracy: 0.2258\n",
            "Epoch 28/67\n",
            "657/657 [==============================] - 27s 40ms/step - loss: 1.6000 - accuracy: 0.2258\n",
            "Epoch 29/67\n",
            "657/657 [==============================] - 26s 39ms/step - loss: 1.6000 - accuracy: 0.2258\n",
            "Epoch 30/67\n",
            "657/657 [==============================] - 26s 39ms/step - loss: 1.6001 - accuracy: 0.2258\n",
            "Epoch 31/67\n",
            "657/657 [==============================] - 27s 40ms/step - loss: 1.6001 - accuracy: 0.2258\n",
            "Epoch 32/67\n",
            "657/657 [==============================] - 26s 39ms/step - loss: 1.6000 - accuracy: 0.2148\n",
            "Epoch 33/67\n",
            "657/657 [==============================] - 27s 41ms/step - loss: 1.6002 - accuracy: 0.2258\n",
            "Epoch 34/67\n",
            "657/657 [==============================] - 26s 38ms/step - loss: 1.6000 - accuracy: 0.2258\n",
            "Epoch 35/67\n",
            "657/657 [==============================] - 27s 41ms/step - loss: 1.6000 - accuracy: 0.2258\n",
            "Epoch 36/67\n",
            "657/657 [==============================] - 26s 38ms/step - loss: 1.5999 - accuracy: 0.2258\n",
            "Epoch 37/67\n",
            "657/657 [==============================] - 27s 40ms/step - loss: 1.5999 - accuracy: 0.2258\n",
            "Epoch 38/67\n",
            "657/657 [==============================] - 27s 40ms/step - loss: 1.6001 - accuracy: 0.2258\n",
            "Epoch 39/67\n",
            "657/657 [==============================] - 27s 40ms/step - loss: 1.6001 - accuracy: 0.2166\n",
            "Epoch 40/67\n",
            "657/657 [==============================] - 26s 39ms/step - loss: 1.6000 - accuracy: 0.2258\n",
            "Epoch 41/67\n",
            "657/657 [==============================] - 27s 40ms/step - loss: 1.6001 - accuracy: 0.2258\n",
            "Epoch 42/67\n",
            "657/657 [==============================] - 27s 40ms/step - loss: 1.6000 - accuracy: 0.2136\n",
            "Epoch 43/67\n",
            "657/657 [==============================] - 25s 38ms/step - loss: 1.6001 - accuracy: 0.2258\n",
            "Epoch 44/67\n",
            "657/657 [==============================] - 27s 40ms/step - loss: 1.5999 - accuracy: 0.2258\n",
            "Epoch 45/67\n",
            "657/657 [==============================] - 26s 38ms/step - loss: 1.6001 - accuracy: 0.2258\n",
            "Epoch 46/67\n",
            "657/657 [==============================] - 26s 39ms/step - loss: 1.6000 - accuracy: 0.2258\n",
            "Epoch 47/67\n",
            "657/657 [==============================] - 26s 38ms/step - loss: 1.6001 - accuracy: 0.2011\n",
            "Epoch 48/67\n",
            "657/657 [==============================] - 26s 39ms/step - loss: 1.5999 - accuracy: 0.2258\n",
            "Epoch 49/67\n",
            "657/657 [==============================] - 27s 40ms/step - loss: 1.6000 - accuracy: 0.2032\n",
            "Epoch 50/67\n",
            "657/657 [==============================] - 26s 39ms/step - loss: 1.6001 - accuracy: 0.2212\n",
            "Epoch 51/67\n",
            "657/657 [==============================] - 27s 40ms/step - loss: 1.6000 - accuracy: 0.2258\n",
            "Epoch 52/67\n",
            "657/657 [==============================] - 26s 39ms/step - loss: 1.6000 - accuracy: 0.2227\n",
            "Epoch 53/67\n",
            "657/657 [==============================] - 28s 42ms/step - loss: 1.6001 - accuracy: 0.2258\n",
            "Epoch 54/67\n",
            "657/657 [==============================] - 26s 38ms/step - loss: 1.5999 - accuracy: 0.2258\n",
            "Epoch 55/67\n",
            "657/657 [==============================] - 27s 40ms/step - loss: 1.6000 - accuracy: 0.2258\n",
            "Epoch 56/67\n",
            "657/657 [==============================] - 27s 40ms/step - loss: 1.6002 - accuracy: 0.2258\n",
            "Epoch 57/67\n",
            "657/657 [==============================] - 26s 39ms/step - loss: 1.6001 - accuracy: 0.2258\n",
            "Epoch 58/67\n",
            "657/657 [==============================] - 26s 38ms/step - loss: 1.5999 - accuracy: 0.2212\n",
            "Epoch 59/67\n",
            "657/657 [==============================] - 26s 38ms/step - loss: 1.6000 - accuracy: 0.2258\n",
            "Epoch 60/67\n",
            "657/657 [==============================] - 27s 40ms/step - loss: 1.5999 - accuracy: 0.2258\n",
            "Epoch 61/67\n",
            "657/657 [==============================] - 25s 37ms/step - loss: 1.5999 - accuracy: 0.2258\n",
            "Epoch 62/67\n",
            "657/657 [==============================] - 27s 40ms/step - loss: 1.6000 - accuracy: 0.2258\n",
            "Epoch 63/67\n",
            "657/657 [==============================] - 26s 38ms/step - loss: 1.6001 - accuracy: 0.2197\n",
            "Epoch 64/67\n",
            "657/657 [==============================] - 27s 40ms/step - loss: 1.6000 - accuracy: 0.2258\n",
            "Epoch 65/67\n",
            "657/657 [==============================] - 26s 39ms/step - loss: 1.6001 - accuracy: 0.2258\n",
            "Epoch 66/67\n",
            "657/657 [==============================] - 26s 38ms/step - loss: 1.6000 - accuracy: 0.2258\n",
            "Epoch 67/67\n",
            "657/657 [==============================] - 26s 39ms/step - loss: 1.5998 - accuracy: 0.2258\n"
          ]
        }
      ]
    },
    {
      "cell_type": "code",
      "source": [
        "new_model_path = '/content/drive/MyDrive/Colab Notebooks/project/notebook/model/new_eff_model.h5'\n",
        "model_new_eff.save(new_model_path)"
      ],
      "metadata": {
        "id": "3fG3Ns4RPFgw"
      },
      "execution_count": 24,
      "outputs": []
    },
    {
      "cell_type": "markdown",
      "source": [
        "**(ii) & (iii) Apply at least L equally spaced frames of each video in the folder Sport Videos5 to your model to obtain L vectors of probability predictions from the softmax in your model. You must choose L to be at least 100, but you are welcome to use all the frames in each video. Calculate the average p ̄ of these probability vectors for each video. Select the class with maximum probability in the vector p ̄ for each video and compare it to the actual label of the video.** "
      ],
      "metadata": {
        "id": "U4TNlBJR8gqr"
      }
    },
    {
      "cell_type": "code",
      "source": [
        "# https://www.analyticsvidhya.com/blog/2018/09/deep-learning-video-classification-python/?\n",
        "# https://keras.io/examples/vision/video_classification/"
      ],
      "metadata": {
        "id": "ZPLarIxTbnbY"
      },
      "execution_count": null,
      "outputs": []
    },
    {
      "cell_type": "code",
      "source": [
        "class_names = list(new_total_generator.class_indices.keys())\n",
        "\n",
        "print(class_names)"
      ],
      "metadata": {
        "colab": {
          "base_uri": "https://localhost:8080/"
        },
        "id": "qpGwwdL2EuMh",
        "outputId": "9af9362e-0d03-4708-db3a-5d02ad97678e"
      },
      "execution_count": 88,
      "outputs": [
        {
          "output_type": "stream",
          "name": "stdout",
          "text": [
            "['baseball', 'basketball', 'fencing', 'tennis', 'volleyball']\n"
          ]
        }
      ]
    },
    {
      "cell_type": "code",
      "source": [
        "class_dict = {\"BaseballPitch\": 'baseball', \n",
        "              \"Basketball\": 'basketball', \n",
        "              \"Fencing\": 'fencing', \n",
        "              \"TennisSwing\": 'tennis', \n",
        "              \"VolleyballSpiking\": 'volleyball'}"
      ],
      "metadata": {
        "id": "OwbX0Ubxe84L"
      },
      "execution_count": 89,
      "outputs": []
    },
    {
      "cell_type": "code",
      "source": [
        "class_order = [class_dict[k] for k in sorted(class_dict)]\n",
        "class_order"
      ],
      "metadata": {
        "colab": {
          "base_uri": "https://localhost:8080/"
        },
        "id": "Qr_Hh1BDWTjv",
        "outputId": "18bd3785-958c-42fc-8212-540f4a73bb05"
      },
      "execution_count": 90,
      "outputs": [
        {
          "output_type": "execute_result",
          "data": {
            "text/plain": [
              "['baseball', 'basketball', 'fencing', 'tennis', 'volleyball']"
            ]
          },
          "metadata": {},
          "execution_count": 90
        }
      ]
    },
    {
      "cell_type": "code",
      "source": [
        "'''\n",
        "# define the desired class order\n",
        "class_order = ['BaseballPitch', 'Basketball', 'Fencing', 'TennisSwing', 'VolleyballSpiking']\n",
        "'''"
      ],
      "metadata": {
        "id": "xJTOVzWhXB7L"
      },
      "execution_count": null,
      "outputs": []
    },
    {
      "cell_type": "markdown",
      "source": [
        "**VGG16**"
      ],
      "metadata": {
        "id": "9EL6UtiP6Ahv"
      }
    },
    {
      "cell_type": "code",
      "source": [
        "# set the path to your video folder\n",
        "video_folder = '/content/drive/MyDrive/Colab Notebooks/project/data/Sport_Videos'\n",
        "\n",
        "# set the path to your VGG16 model file\n",
        "model_path = '/content/drive/MyDrive/Colab Notebooks/project/notebook/model/new_vgg_model.h5'\n",
        "\n",
        "# load the model\n",
        "model = load_model(model_path)\n",
        "\n",
        "# set the desired number of frames to extract per video\n",
        "num_frames = 100\n",
        "\n",
        "# set the desired frame rate\n",
        "frame_rate = 1\n",
        "\n",
        "# initialize empty lists to store the predicted and actual labels\n",
        "predicted_labels = []\n",
        "actual_labels = []\n"
      ],
      "metadata": {
        "id": "Gvf7RLEuH6JE"
      },
      "execution_count": 53,
      "outputs": []
    },
    {
      "cell_type": "code",
      "source": [
        "with open(\"/content/drive/MyDrive/Colab Notebooks/project/notebook/labels/vgg_predicted_labels.txt\", \"w\") as predicted_file:\n",
        "    with open(\"/content/drive/MyDrive/Colab Notebooks/project/notebook/labels/vgg_actual_labels.txt\", \"w\") as actual_file:\n",
        "\n",
        "        # loop over each video folder\n",
        "        for video_class in sorted(os.listdir(video_folder)):\n",
        "            print(f\"Processing video class: {video_class}\")\n",
        "            class_path = os.path.join(video_folder, video_class)\n",
        "\n",
        "            # get the corresponding label for the current video class\n",
        "            if video_class in class_dict:\n",
        "                class_label = class_dict[video_class]\n",
        "            else:\n",
        "                print(f\"Warning: unknown video class '{video_class}'\")\n",
        "                continue\n",
        "            \n",
        "            # loop over each video file in the current class\n",
        "            for video_file in os.listdir(class_path):\n",
        "                video_path = os.path.join(class_path, video_file)\n",
        "                #print(f\"Processing video file: {video_file}\")\n",
        "                #print(video_path)\n",
        "\n",
        "                # use OpenCV to read the video file\n",
        "                cap = cv2.VideoCapture(video_path)\n",
        "\n",
        "                if not os.path.exists(video_path):\n",
        "                    print(f\"Error: video file '{video_path}' does not exist\")\n",
        "                    continue\n",
        "\n",
        "                if not cap.isOpened():\n",
        "                    print(f\"Error: could not read video file '{video_path}'\")\n",
        "                    continue\n",
        "\n",
        "                # get the total number of frames in the video\n",
        "                num_frames_total = int(cap.get(cv2.CAP_PROP_FRAME_COUNT))\n",
        "                #print(f\"Total number of frames: {num_frames_total}\")\n",
        "\n",
        "                # determine the number of frames to skip between extractions\n",
        "                frame_step = int(num_frames_total / num_frames)\n",
        "\n",
        "                # initialize an empty list to store the probability vectors\n",
        "                prob_vectors = []\n",
        "\n",
        "                # loop over each frame in the video\n",
        "                for i in range(num_frames_total):\n",
        "                    ret, frame = cap.read()\n",
        "                    #print(f\"Frame {i} read: {ret}\")\n",
        "                    \n",
        "                    # use continus instead of break here since if using break, no current pro_vectors, but\n",
        "                    # we still have append an actural label not in this for loop\n",
        "                    # but with continue, will directly jumpt to for i in range(num_frames_total)\n",
        "                    # it is likely that all frams are read (ret == False), this for loop will end/exit \n",
        "                    # without going to the actural label.\n",
        "                    if ret ==False:\n",
        "                      continue\n",
        "\n",
        "\n",
        "                    # check if the current frame index is a multiple of the desired frame rate\n",
        "                    if i % frame_rate == 0:\n",
        "                        # preprocess the frame\n",
        "                        frame = cv2.resize(frame, (224, 224))\n",
        "                        frame = frame.astype('float32') / 255.0\n",
        "                        frame = np.expand_dims(frame, axis=0)\n",
        "\n",
        "                        # get the probability predictions from the model\n",
        "                        prob_vector = model.predict(frame, verbose=0)[0]\n",
        "                        prob_vectors.append(prob_vector)\n",
        "\n",
        "                    # check if we have already extracted the desired number of frames\n",
        "                    if len(prob_vectors) == num_frames:\n",
        "                        break\n",
        "\n",
        "                    # skip frames according to the frame step\n",
        "                    for j in range(frame_step):\n",
        "                        ret = cap.grab()\n",
        "\n",
        "                cap.release()\n",
        "\n",
        "                # calculate the average probability vector for the video\n",
        "                avg_prob_vector = np.mean(prob_vectors, axis=0)\n",
        "\n",
        "                # print the average probability vector\n",
        "                #print(f\"Average probability vector for {video_file}:\")\n",
        "                #print(avg_prob_vector)\n",
        "\n",
        "                # get the predicted label for the video\n",
        "                predicted_label = np.argmax(avg_prob_vector)\n",
        "                predicted_labels.append(predicted_label)\n",
        "                \n",
        "\n",
        "                if video_class in class_dict:\n",
        "                    class_label = class_dict[video_class]\n",
        "                    # get the actual label for the video\n",
        "                    if class_label in class_order:\n",
        "                        actual_label = class_order.index(class_label)\n",
        "                        actual_labels.append(actual_label)\n",
        "                        #print(f\"Predicted label: {predicted_label}\")\n",
        "                        #print(f\"Actual label: {actual_label}\")\n",
        "                    else:\n",
        "                        print(f\"Error: class label '{class_label}' not found in class order\")\n",
        "                        continue\n",
        "                else:\n",
        "                    print(f\"Error: video class '{video_class} not found in class_dict\")\n",
        "                \n",
        "                #print(predicted_labels)\n",
        "                #print(actual_labels)\n",
        "                predicted_file.write(f\"{predicted_label}\\n\")\n",
        "                actual_file.write(f\"{actual_label}\\n\")\n",
        "\n",
        "        print(\"Done\")\n"
      ],
      "metadata": {
        "colab": {
          "base_uri": "https://localhost:8080/"
        },
        "id": "7ZC5eGFw2ISz",
        "outputId": "bac559b9-cc81-46e7-a1f2-230147cfe872"
      },
      "execution_count": 56,
      "outputs": [
        {
          "output_type": "stream",
          "name": "stdout",
          "text": [
            "Processing video class: BaseballPitch\n",
            "Processing video class: Basketball\n",
            "Processing video class: Fencing\n",
            "Processing video class: TennisSwing\n",
            "Processing video class: VolleyballSpiking\n",
            "Done\n"
          ]
        }
      ]
    },
    {
      "cell_type": "code",
      "source": [
        "len(actual_labels)"
      ],
      "metadata": {
        "colab": {
          "base_uri": "https://localhost:8080/"
        },
        "id": "cly9hYYBhUAp",
        "outputId": "5e0d5768-74f0-463b-ce56-cd0a912042c7"
      },
      "execution_count": 57,
      "outputs": [
        {
          "output_type": "execute_result",
          "data": {
            "text/plain": [
              "1158"
            ]
          },
          "metadata": {},
          "execution_count": 57
        }
      ]
    },
    {
      "cell_type": "code",
      "source": [
        "len(predicted_labels)"
      ],
      "metadata": {
        "colab": {
          "base_uri": "https://localhost:8080/"
        },
        "id": "aKfnkWgkgoEA",
        "outputId": "a10dd8bc-f40b-4349-bc30-7170536b76f0"
      },
      "execution_count": 58,
      "outputs": [
        {
          "output_type": "execute_result",
          "data": {
            "text/plain": [
              "1158"
            ]
          },
          "metadata": {},
          "execution_count": 58
        }
      ]
    },
    {
      "cell_type": "code",
      "source": [
        "vgg_predicted_labels = predicted_labels\n",
        "vgg_actual_labels = actual_labels"
      ],
      "metadata": {
        "id": "bNeEZEf_p1uo"
      },
      "execution_count": 59,
      "outputs": []
    },
    {
      "cell_type": "code",
      "source": [
        "\n",
        "print(vgg_predicted_labels) "
      ],
      "metadata": {
        "colab": {
          "base_uri": "https://localhost:8080/"
        },
        "id": "NxaX4qC1HiKI",
        "outputId": "dee2cb86-a2ba-4212-fe69-919caafd68f9"
      },
      "execution_count": 60,
      "outputs": [
        {
          "output_type": "stream",
          "name": "stdout",
          "text": [
            "[0, 0, 0, 0, 0, 0, 0, 0, 0, 1, 0, 0, 0, 3, 0, 0, 3, 0, 0, 0, 0, 0, 0, 0, 0, 0, 0, 0, 0, 0, 0, 0, 0, 0, 0, 0, 0, 0, 0, 0, 0, 0, 0, 0, 0, 0, 0, 0, 0, 0, 0, 0, 0, 0, 0, 0, 0, 0, 0, 0, 0, 0, 0, 0, 0, 0, 0, 0, 0, 0, 0, 0, 0, 0, 0, 0, 0, 3, 3, 3, 0, 0, 0, 3, 0, 0, 0, 0, 0, 0, 0, 0, 0, 0, 0, 0, 0, 0, 0, 0, 0, 0, 0, 0, 0, 0, 0, 0, 0, 0, 0, 0, 0, 0, 0, 0, 0, 2, 2, 0, 2, 2, 0, 0, 0, 0, 0, 0, 0, 0, 0, 0, 0, 0, 0, 0, 0, 0, 0, 0, 0, 0, 0, 0, 0, 0, 0, 0, 0, 0, 2, 2, 0, 2, 2, 0, 0, 0, 0, 0, 0, 0, 0, 0, 0, 0, 0, 0, 0, 1, 0, 0, 0, 0, 4, 0, 0, 0, 0, 0, 0, 0, 0, 0, 3, 0, 0, 2, 0, 3, 3, 3, 3, 3, 0, 0, 0, 2, 2, 0, 0, 0, 0, 2, 4, 4, 4, 4, 4, 2, 1, 2, 1, 1, 4, 1, 4, 0, 0, 0, 0, 0, 0, 0, 0, 0, 0, 0, 0, 0, 0, 0, 0, 0, 4, 2, 1, 0, 1, 0, 0, 0, 0, 0, 0, 0, 0, 0, 0, 0, 0, 0, 0, 0, 0, 0, 0, 0, 0, 0, 0, 0, 0, 0, 0, 0, 0, 0, 0, 0, 0, 0, 0, 0, 0, 0, 0, 0, 0, 3, 3, 3, 3, 4, 4, 4, 3, 0, 2, 2, 2, 2, 2, 0, 2, 2, 2, 0, 2, 2, 0, 0, 0, 0, 0, 0, 0, 0, 0, 0, 0, 0, 0, 0, 0, 0, 0, 0, 4, 0, 2, 0, 2, 2, 2, 0, 2, 0, 0, 0, 0, 1, 0, 0, 0, 0, 3, 3, 3, 3, 3, 0, 0, 0, 0, 0, 3, 3, 3, 3, 0, 0, 0, 3, 0, 3, 0, 0, 3, 0, 0, 0, 0, 0, 0, 0, 1, 2, 2, 2, 1, 1, 0, 0, 0, 0, 0, 0, 0, 0, 0, 0, 2, 2, 2, 0, 2, 2, 2, 0, 2, 0, 0, 0, 0, 0, 0, 2, 0, 0, 0, 0, 0, 0, 0, 1, 0, 0, 0, 0, 0, 1, 1, 1, 0, 1, 1, 1, 1, 0, 0, 0, 0, 3, 0, 0, 1, 1, 1, 1, 3, 3, 1, 3, 3, 3, 3, 3, 3, 3, 3, 0, 1, 3, 0, 0, 0, 0, 0, 0, 0, 0, 0, 0, 4, 0, 0, 0, 0, 0, 4, 4, 0, 0, 0, 0, 3, 0, 3, 3, 3, 3, 3, 0, 0, 0, 0, 0, 0, 0, 0, 0, 1, 0, 0, 0, 3, 0, 0, 3, 0, 0, 0, 0, 0, 0, 0, 0, 0, 0, 0, 0, 0, 0, 0, 0, 0, 0, 0, 0, 0, 0, 0, 0, 0, 0, 0, 0, 0, 0, 0, 0, 0, 0, 0, 0, 0, 0, 0, 0, 0, 0, 0, 0, 0, 0, 0, 0, 0, 0, 0, 0, 0, 0, 0, 0, 0, 0, 0, 0, 3, 3, 3, 0, 0, 0, 3, 0, 0, 0, 0, 0, 0, 0, 0, 0, 0, 0, 0, 0, 0, 0, 0, 0, 0, 0, 0, 0, 0, 0, 0, 0, 0, 0, 0, 0, 0, 0, 0, 0, 2, 2, 0, 2, 2, 0, 0, 0, 0, 0, 0, 0, 0, 0, 0, 0, 0, 0, 0, 0, 0, 0, 0, 0, 0, 0, 0, 0, 0, 0, 0, 0, 0, 2, 2, 0, 2, 2, 0, 0, 0, 0, 0, 0, 0, 0, 0, 0, 0, 0, 0, 0, 1, 0, 0, 0, 0, 4, 0, 0, 0, 0, 0, 0, 0, 0, 0, 3, 0, 0, 2, 0, 3, 3, 3, 3, 3, 0, 0, 0, 2, 2, 0, 0, 0, 0, 2, 4, 4, 4, 4, 4, 2, 1, 2, 1, 1, 4, 1, 4, 0, 0, 0, 0, 0, 0, 0, 0, 0, 0, 0, 0, 0, 0, 0, 0, 0, 4, 2, 1, 0, 1, 0, 0, 0, 0, 0, 0, 0, 0, 0, 0, 0, 0, 0, 0, 0, 0, 0, 0, 0, 0, 0, 0, 0, 0, 0, 0, 0, 0, 0, 0, 0, 0, 0, 0, 0, 0, 0, 0, 0, 0, 3, 3, 3, 3, 4, 4, 4, 3, 0, 2, 2, 2, 2, 2, 0, 2, 2, 2, 0, 2, 2, 0, 0, 0, 0, 0, 0, 0, 0, 0, 0, 0, 0, 0, 0, 0, 0, 0, 0, 4, 0, 2, 0, 2, 2, 2, 0, 2, 0, 0, 0, 0, 1, 0, 0, 0, 0, 3, 3, 3, 3, 3, 0, 0, 0, 0, 0, 3, 3, 3, 3, 0, 0, 0, 3, 0, 3, 0, 0, 3, 0, 0, 0, 0, 0, 0, 0, 1, 2, 2, 2, 1, 1, 0, 0, 0, 0, 0, 0, 0, 0, 0, 0, 2, 2, 2, 0, 2, 2, 2, 0, 2, 0, 0, 0, 0, 0, 0, 2, 0, 0, 0, 0, 0, 0, 0, 1, 0, 0, 0, 0, 0, 1, 1, 1, 0, 1, 1, 1, 1, 0, 0, 0, 0, 3, 0, 0, 1, 1, 1, 1, 3, 3, 1, 3, 3, 3, 3, 3, 3, 3, 3, 0, 1, 3, 0, 0, 0, 0, 0, 0, 0, 0, 0, 0, 4, 0, 0, 0, 0, 0, 4, 4, 0, 0, 0, 0, 3, 0, 3, 3, 3, 3, 3, 3, 3, 0, 0, 0, 0, 0, 0, 0, 0, 0, 0, 0, 0, 0, 0, 0, 0, 0, 0, 0, 0, 0, 3, 0, 0, 0, 0, 0, 0, 0, 0, 0, 0, 0, 0, 0, 0, 0, 0, 0, 0, 0, 0, 0, 0, 0, 0, 0, 0, 0, 0, 0, 0, 4, 0, 0, 0, 0, 0, 0, 0, 0, 0, 0, 3, 3, 3, 3, 3, 3, 0, 0, 0, 0, 0, 0, 3, 0, 3, 0, 0, 0, 0, 3, 1, 1, 3, 0, 3, 3, 3, 3, 3, 3, 3, 0, 4, 0, 0, 2, 0, 0, 0, 1, 1, 4, 4, 4, 0, 4, 4, 4, 4, 4, 1, 0, 0, 0, 0, 0, 0, 3, 0, 4, 0, 0, 0, 3, 0, 0, 3, 3, 3, 3, 0, 4, 1, 1, 2, 2, 4, 1, 1, 2, 2, 2, 4, 1, 1, 0, 0, 0, 1, 3, 0, 2, 3, 3, 4, 3, 0, 0, 0, 3, 3, 3, 0, 0, 1, 4, 0, 1, 4, 0, 0, 2, 0, 2, 0, 1, 0, 3, 0, 2, 0, 0, 0, 2, 0, 0, 0, 1, 0, 0, 0, 2, 2, 0, 2, 0, 0, 2, 0, 4, 2, 4, 4, 0, 0, 4, 4]\n"
          ]
        }
      ]
    },
    {
      "cell_type": "code",
      "source": [
        "print(vgg_actual_labels) "
      ],
      "metadata": {
        "colab": {
          "base_uri": "https://localhost:8080/"
        },
        "id": "hUkBUHDDXnEj",
        "outputId": "68acc98f-20f5-4c89-ec21-8a11fe8f79f3"
      },
      "execution_count": 61,
      "outputs": [
        {
          "output_type": "stream",
          "name": "stdout",
          "text": [
            "[0, 0, 0, 0, 0, 0, 0, 0, 0, 0, 0, 0, 0, 0, 0, 0, 0, 0, 0, 0, 0, 0, 0, 0, 0, 0, 0, 0, 0, 0, 0, 0, 0, 0, 0, 0, 0, 0, 0, 0, 0, 0, 0, 0, 0, 0, 0, 0, 0, 0, 0, 0, 0, 0, 0, 0, 0, 0, 0, 0, 0, 0, 0, 0, 0, 0, 0, 0, 0, 0, 0, 0, 0, 0, 0, 0, 0, 0, 0, 0, 0, 0, 0, 0, 0, 0, 0, 0, 0, 0, 0, 0, 0, 0, 0, 0, 0, 0, 0, 0, 0, 0, 0, 0, 0, 0, 0, 0, 0, 0, 0, 0, 0, 0, 0, 0, 0, 0, 0, 0, 0, 0, 0, 0, 0, 0, 0, 0, 0, 0, 0, 0, 0, 0, 0, 0, 0, 0, 0, 0, 0, 0, 0, 0, 0, 0, 0, 0, 0, 0, 1, 1, 1, 1, 1, 1, 1, 1, 1, 1, 1, 1, 1, 1, 1, 1, 1, 1, 1, 1, 1, 1, 1, 1, 1, 1, 1, 1, 1, 1, 1, 1, 1, 1, 1, 1, 1, 1, 1, 1, 1, 1, 1, 1, 1, 1, 1, 1, 1, 1, 1, 1, 1, 1, 1, 1, 1, 1, 1, 1, 1, 1, 1, 1, 1, 1, 1, 1, 1, 1, 1, 1, 1, 1, 1, 1, 1, 1, 1, 1, 1, 1, 1, 1, 1, 1, 1, 1, 1, 1, 1, 1, 1, 1, 1, 1, 1, 1, 1, 1, 1, 1, 1, 1, 1, 1, 1, 1, 1, 1, 1, 1, 1, 1, 1, 1, 1, 1, 1, 1, 1, 1, 1, 1, 1, 1, 1, 1, 1, 1, 1, 1, 1, 1, 1, 1, 1, 2, 2, 2, 2, 2, 2, 2, 2, 2, 2, 2, 2, 2, 2, 2, 2, 2, 2, 2, 2, 2, 2, 2, 2, 2, 2, 2, 2, 2, 2, 2, 2, 2, 2, 2, 2, 2, 2, 2, 2, 2, 2, 2, 2, 2, 2, 2, 2, 2, 2, 2, 2, 2, 2, 2, 2, 2, 2, 2, 2, 2, 2, 2, 2, 2, 2, 2, 2, 2, 2, 2, 2, 2, 2, 2, 2, 2, 2, 2, 2, 2, 2, 2, 2, 2, 2, 2, 2, 2, 2, 2, 2, 2, 2, 2, 2, 2, 2, 2, 2, 2, 2, 2, 2, 2, 2, 2, 2, 2, 2, 2, 3, 3, 3, 3, 3, 3, 3, 3, 3, 3, 3, 3, 3, 3, 3, 3, 3, 3, 3, 3, 3, 3, 3, 3, 3, 3, 3, 3, 3, 3, 3, 3, 3, 3, 3, 3, 3, 3, 3, 3, 3, 3, 3, 3, 3, 3, 3, 3, 3, 3, 3, 3, 3, 3, 3, 3, 3, 3, 3, 3, 3, 3, 3, 3, 3, 3, 3, 3, 3, 3, 3, 3, 3, 3, 3, 0, 0, 0, 0, 0, 0, 0, 0, 0, 0, 0, 0, 0, 0, 0, 0, 0, 0, 0, 0, 0, 0, 0, 0, 0, 0, 0, 0, 0, 0, 0, 0, 0, 0, 0, 0, 0, 0, 0, 0, 0, 0, 0, 0, 0, 0, 0, 0, 0, 0, 0, 0, 0, 0, 0, 0, 0, 0, 0, 0, 0, 0, 0, 0, 0, 0, 0, 0, 0, 0, 0, 0, 0, 0, 0, 0, 0, 0, 0, 0, 0, 0, 0, 0, 0, 0, 0, 0, 0, 0, 0, 0, 0, 0, 0, 0, 0, 0, 0, 0, 0, 0, 0, 0, 0, 0, 0, 0, 0, 0, 0, 0, 0, 0, 0, 0, 0, 0, 0, 0, 0, 0, 0, 0, 0, 0, 0, 0, 0, 0, 0, 0, 0, 0, 0, 0, 0, 0, 0, 0, 0, 0, 0, 0, 0, 0, 0, 0, 0, 0, 1, 1, 1, 1, 1, 1, 1, 1, 1, 1, 1, 1, 1, 1, 1, 1, 1, 1, 1, 1, 1, 1, 1, 1, 1, 1, 1, 1, 1, 1, 1, 1, 1, 1, 1, 1, 1, 1, 1, 1, 1, 1, 1, 1, 1, 1, 1, 1, 1, 1, 1, 1, 1, 1, 1, 1, 1, 1, 1, 1, 1, 1, 1, 1, 1, 1, 1, 1, 1, 1, 1, 1, 1, 1, 1, 1, 1, 1, 1, 1, 1, 1, 1, 1, 1, 1, 1, 1, 1, 1, 1, 1, 1, 1, 1, 1, 1, 1, 1, 1, 1, 1, 1, 1, 1, 1, 1, 1, 1, 1, 1, 1, 1, 1, 1, 1, 1, 1, 1, 1, 1, 1, 1, 1, 1, 1, 1, 1, 1, 1, 1, 1, 1, 1, 1, 1, 1, 2, 2, 2, 2, 2, 2, 2, 2, 2, 2, 2, 2, 2, 2, 2, 2, 2, 2, 2, 2, 2, 2, 2, 2, 2, 2, 2, 2, 2, 2, 2, 2, 2, 2, 2, 2, 2, 2, 2, 2, 2, 2, 2, 2, 2, 2, 2, 2, 2, 2, 2, 2, 2, 2, 2, 2, 2, 2, 2, 2, 2, 2, 2, 2, 2, 2, 2, 2, 2, 2, 2, 2, 2, 2, 2, 2, 2, 2, 2, 2, 2, 2, 2, 2, 2, 2, 2, 2, 2, 2, 2, 2, 2, 2, 2, 2, 2, 2, 2, 2, 2, 2, 2, 2, 2, 2, 2, 2, 2, 2, 2, 3, 3, 3, 3, 3, 3, 3, 3, 3, 3, 3, 3, 3, 3, 3, 3, 3, 3, 3, 3, 3, 3, 3, 3, 3, 3, 3, 3, 3, 3, 3, 3, 3, 3, 3, 3, 3, 3, 3, 3, 3, 3, 3, 3, 3, 3, 3, 3, 3, 3, 3, 3, 3, 3, 3, 3, 3, 3, 3, 3, 3, 3, 3, 3, 3, 3, 3, 3, 3, 3, 3, 3, 3, 3, 3, 3, 3, 3, 3, 3, 3, 3, 3, 3, 3, 3, 3, 3, 3, 3, 3, 3, 3, 3, 3, 3, 3, 3, 3, 3, 3, 3, 3, 3, 3, 3, 3, 3, 3, 3, 3, 3, 3, 3, 3, 3, 3, 3, 3, 3, 3, 3, 3, 3, 3, 3, 3, 3, 3, 3, 3, 3, 3, 3, 3, 3, 3, 3, 3, 3, 3, 3, 3, 3, 3, 3, 3, 3, 3, 3, 3, 3, 3, 3, 3, 3, 3, 3, 3, 3, 3, 3, 3, 3, 3, 3, 3, 3, 3, 3, 3, 4, 4, 4, 4, 4, 4, 4, 4, 4, 4, 4, 4, 4, 4, 4, 4, 4, 4, 4, 4, 4, 4, 4, 4, 4, 4, 4, 4, 4, 4, 4, 4, 4, 4, 4, 4, 4, 4, 4, 4, 4, 4, 4, 4, 4, 4, 4, 4, 4, 4, 4, 4, 4, 4, 4, 4, 4, 4, 4, 4, 4, 4, 4, 4, 4, 4, 4, 4, 4, 4, 4, 4, 4, 4, 4, 4, 4, 4, 4, 4, 4, 4, 4, 4, 4, 4, 4, 4, 4, 4, 4, 4, 4, 4, 4, 4, 4, 4, 4, 4, 4, 4, 4, 4, 4, 4, 4, 4, 4, 4, 4, 4, 4, 4, 4, 4]\n"
          ]
        }
      ]
    },
    {
      "cell_type": "markdown",
      "source": [
        "**EfficientNetB0**"
      ],
      "metadata": {
        "id": "FDxAxCwt62KU"
      }
    },
    {
      "cell_type": "code",
      "source": [
        "\n",
        "# set the path to your video folder\n",
        "video_folder = '/content/drive/MyDrive/Colab Notebooks/project/data/Sport_Videos'\n",
        "\n",
        "# set the path to your model file\n",
        "model_path = '/content/drive/MyDrive/Colab Notebooks/project/notebook/model/new_eff_model.h5'\n",
        "\n",
        "# load the model\n",
        "model = load_model(model_path)\n",
        "\n",
        "# set the desired number of frames to extract per video\n",
        "num_frames = 100\n",
        "\n",
        "# set the desired frame rate\n",
        "frame_rate = 1\n",
        "\n",
        "# initialize empty lists to store the predicted and actual labels\n",
        "predicted_labels = []\n",
        "actual_labels = []\n"
      ],
      "metadata": {
        "id": "cKLixpYA63o0"
      },
      "execution_count": 65,
      "outputs": []
    },
    {
      "cell_type": "code",
      "source": [
        "with open(\"/content/drive/MyDrive/Colab Notebooks/project/notebook/labels/eff_predicted_labels.txt\", \"w\") as predicted_file:\n",
        "    with open(\"/content/drive/MyDrive/Colab Notebooks/project/notebook/labels/eff_actual_labels.txt\", \"w\") as actual_file:\n",
        "\n",
        "        # loop over each video folder\n",
        "        for video_class in sorted(os.listdir(video_folder)):\n",
        "            print(f\"Processing video class: {video_class}\")\n",
        "            class_path = os.path.join(video_folder, video_class)\n",
        "\n",
        "            # get the corresponding label for the current video class\n",
        "            if video_class in class_dict:\n",
        "                class_label = class_dict[video_class]\n",
        "            else:\n",
        "                print(f\"Warning: unknown video class '{video_class}'\")\n",
        "                continue\n",
        "            \n",
        "            # loop over each video file in the current class\n",
        "            for video_file in os.listdir(class_path):\n",
        "                video_path = os.path.join(class_path, video_file)\n",
        "                #print(f\"Processing video file: {video_file}\")\n",
        "                #print(video_path)\n",
        "\n",
        "                # use OpenCV to read the video file\n",
        "                cap = cv2.VideoCapture(video_path)\n",
        "\n",
        "                if not os.path.exists(video_path):\n",
        "                    print(f\"Error: video file '{video_path}' does not exist\")\n",
        "                    continue\n",
        "\n",
        "                if not cap.isOpened():\n",
        "                    print(f\"Error: could not read video file '{video_path}'\")\n",
        "                    continue\n",
        "\n",
        "                # get the total number of frames in the video\n",
        "                num_frames_total = int(cap.get(cv2.CAP_PROP_FRAME_COUNT))\n",
        "                #print(f\"Total number of frames: {num_frames_total}\")\n",
        "\n",
        "                # determine the number of frames to skip between extractions\n",
        "                frame_step = int(num_frames_total / num_frames)\n",
        "\n",
        "                # initialize an empty list to store the probability vectors\n",
        "                prob_vectors = []\n",
        "\n",
        "                # loop over each frame in the video\n",
        "                for i in range(num_frames_total):\n",
        "                    ret, frame = cap.read()\n",
        "                    #print(f\"Frame {i} read: {ret}\")\n",
        "                    \n",
        "                    # use continus instead of break here since if using break, no current pro_vectors, but\n",
        "                    # we still have append an actural label not in this for loop\n",
        "                    # but with continue, will directly jumpt to for i in range(num_frames_total)\n",
        "                    # it is likely that all frams are read (ret == False), this for loop will end/exit \n",
        "                    # without going to the actural label.\n",
        "                    if ret ==False:\n",
        "                      continue\n",
        "\n",
        "\n",
        "                    # check if the current frame index is a multiple of the desired frame rate\n",
        "                    if i % frame_rate == 0:\n",
        "                        # preprocess the frame\n",
        "                        frame = cv2.resize(frame, (224, 224))\n",
        "                        frame = frame.astype('float32') / 255.0\n",
        "                        frame = np.expand_dims(frame, axis=0)\n",
        "\n",
        "                        # get the probability predictions from the model\n",
        "                        prob_vector = model.predict(frame, verbose=0)[0]\n",
        "                        prob_vectors.append(prob_vector)\n",
        "\n",
        "                    # check if we have already extracted the desired number of frames\n",
        "                    if len(prob_vectors) == num_frames:\n",
        "                        break\n",
        "\n",
        "                    # skip frames according to the frame step\n",
        "                    for j in range(frame_step):\n",
        "                        ret = cap.grab()\n",
        "\n",
        "                cap.release()\n",
        "\n",
        "                # calculate the average probability vector for the video\n",
        "                avg_prob_vector = np.mean(prob_vectors, axis=0)\n",
        "\n",
        "                # print the average probability vector\n",
        "                #print(f\"Average probability vector for {video_file}:\")\n",
        "                #print(avg_prob_vector)\n",
        "\n",
        "                # get the predicted label for the video\n",
        "                predicted_label = np.argmax(avg_prob_vector)\n",
        "                predicted_labels.append(predicted_label)\n",
        "                \n",
        "\n",
        "                if video_class in class_dict:\n",
        "                    class_label = class_dict[video_class]\n",
        "                    # get the actual label for the video\n",
        "                    if class_label in class_order:\n",
        "                        actual_label = class_order.index(class_label)\n",
        "                        actual_labels.append(actual_label)\n",
        "                        #print(f\"Predicted label: {predicted_label}\")\n",
        "                        #print(f\"Actual label: {actual_label}\")\n",
        "                    else:\n",
        "                        print(f\"Error: class label '{class_label}' not found in class order\")\n",
        "                        continue\n",
        "                else:\n",
        "                    print(f\"Error: video class '{video_class} not found in class_dict\")\n",
        "                \n",
        "                #print(predicted_labels)\n",
        "                #print(actual_labels)\n",
        "                predicted_file.write(f\"{predicted_label}\\n\")\n",
        "                actual_file.write(f\"{actual_label}\\n\")\n",
        "\n",
        "        print(\"Done\")"
      ],
      "metadata": {
        "colab": {
          "base_uri": "https://localhost:8080/"
        },
        "id": "QH5geQ8sO1Kd",
        "outputId": "018ce9b6-dc60-474a-c2e6-4dbaf1c9927f"
      },
      "execution_count": 66,
      "outputs": [
        {
          "output_type": "stream",
          "name": "stdout",
          "text": [
            "Processing video class: BaseballPitch\n",
            "Processing video class: Basketball\n",
            "Processing video class: Fencing\n",
            "Processing video class: TennisSwing\n",
            "Processing video class: VolleyballSpiking\n",
            "Done\n"
          ]
        }
      ]
    },
    {
      "cell_type": "code",
      "source": [
        "eff_predicted_labels = predicted_labels\n",
        "eff_actual_labels = actual_labels"
      ],
      "metadata": {
        "id": "dpayOqz47dau"
      },
      "execution_count": 67,
      "outputs": []
    },
    {
      "cell_type": "code",
      "source": [
        "len(eff_predicted_labels)"
      ],
      "metadata": {
        "colab": {
          "base_uri": "https://localhost:8080/"
        },
        "id": "9zInnUyogzaP",
        "outputId": "af648c61-75ec-4b37-99bf-f27da361a3fa"
      },
      "execution_count": 68,
      "outputs": [
        {
          "output_type": "execute_result",
          "data": {
            "text/plain": [
              "685"
            ]
          },
          "metadata": {},
          "execution_count": 68
        }
      ]
    },
    {
      "cell_type": "code",
      "source": [
        "print(eff_predicted_labels)"
      ],
      "metadata": {
        "colab": {
          "base_uri": "https://localhost:8080/"
        },
        "id": "v1i4_z_GhG9A",
        "outputId": "4e8f32c5-292b-48f9-866b-4a3632641686"
      },
      "execution_count": 69,
      "outputs": [
        {
          "output_type": "stream",
          "name": "stdout",
          "text": [
            "[0, 0, 0, 0, 0, 0, 0, 0, 0, 0, 0, 0, 0, 0, 0, 0, 0, 0, 0, 0, 0, 0, 0, 0, 0, 0, 0, 0, 0, 0, 0, 0, 0, 0, 0, 0, 0, 0, 0, 0, 0, 0, 0, 0, 0, 0, 0, 0, 0, 0, 0, 0, 0, 0, 0, 0, 0, 0, 0, 0, 0, 0, 0, 0, 0, 0, 0, 0, 0, 0, 0, 0, 0, 0, 0, 0, 0, 0, 0, 0, 0, 0, 0, 0, 0, 0, 0, 0, 0, 0, 0, 0, 0, 0, 0, 0, 0, 0, 0, 0, 0, 0, 0, 0, 0, 0, 0, 0, 0, 0, 0, 0, 0, 0, 0, 0, 0, 0, 0, 0, 0, 0, 0, 0, 0, 0, 0, 0, 0, 0, 0, 0, 0, 0, 0, 0, 0, 0, 0, 0, 0, 0, 0, 0, 0, 0, 0, 0, 0, 0, 0, 0, 0, 0, 0, 0, 0, 0, 0, 0, 0, 0, 0, 0, 0, 0, 0, 0, 0, 0, 0, 0, 0, 0, 0, 0, 0, 0, 0, 0, 0, 0, 0, 0, 0, 0, 0, 0, 0, 0, 0, 0, 0, 0, 0, 0, 0, 0, 0, 0, 0, 0, 0, 0, 0, 0, 0, 0, 0, 0, 0, 0, 0, 0, 0, 0, 0, 0, 0, 0, 0, 0, 0, 0, 0, 0, 0, 0, 0, 0, 0, 0, 0, 0, 0, 0, 0, 0, 0, 0, 0, 0, 0, 0, 0, 0, 0, 0, 0, 0, 0, 0, 0, 0, 0, 0, 0, 0, 0, 0, 0, 0, 0, 0, 0, 0, 0, 0, 0, 0, 0, 0, 0, 0, 0, 0, 0, 0, 0, 0, 0, 0, 0, 0, 0, 0, 0, 0, 0, 0, 0, 0, 0, 0, 0, 0, 0, 0, 0, 0, 0, 0, 0, 0, 0, 0, 0, 0, 0, 0, 0, 0, 0, 0, 0, 0, 0, 0, 0, 0, 0, 0, 0, 0, 0, 0, 0, 0, 0, 0, 0, 0, 0, 0, 0, 0, 0, 0, 0, 0, 0, 0, 0, 0, 0, 0, 0, 0, 0, 0, 0, 0, 0, 0, 0, 0, 0, 0, 0, 0, 0, 0, 0, 0, 0, 0, 0, 0, 0, 0, 0, 0, 0, 0, 0, 0, 0, 0, 0, 0, 0, 0, 0, 0, 0, 0, 0, 0, 0, 0, 0, 0, 0, 0, 0, 0, 0, 0, 0, 0, 0, 0, 0, 0, 0, 0, 0, 0, 0, 0, 0, 0, 0, 0, 0, 0, 0, 0, 0, 0, 0, 0, 0, 0, 0, 0, 0, 0, 0, 0, 0, 0, 0, 0, 0, 0, 0, 0, 0, 0, 0, 0, 0, 0, 0, 0, 0, 0, 0, 0, 0, 0, 0, 0, 0, 0, 0, 0, 0, 0, 0, 0, 0, 0, 0, 0, 0, 0, 0, 0, 0, 0, 0, 0, 0, 0, 0, 0, 0, 0, 0, 0, 0, 0, 0, 0, 0, 0, 0, 0, 0, 0, 0, 0, 0, 0, 0, 0, 0, 0, 0, 0, 0, 0, 0, 0, 0, 0, 0, 0, 0, 0, 0, 0, 0, 0, 0, 0, 0, 0, 0, 0, 0, 0, 0, 0, 0, 0, 0, 0, 0, 0, 0, 0, 0, 0, 0, 0, 0, 0, 0, 0, 0, 0, 0, 0, 0, 0, 0, 0, 0, 0, 0, 0, 0, 0, 0, 0, 0, 0, 0, 0, 0, 0, 0, 0, 0, 0, 0, 0, 0, 0, 0, 0, 0, 0, 0, 0, 0, 0, 0, 0, 0, 0, 0, 0, 0, 0, 0, 0, 0, 0, 0, 0, 0, 0, 0, 0, 0, 0, 0, 0, 0, 0, 0, 0, 0, 0, 0, 0, 0, 0, 0, 0, 0, 0, 0, 0, 0, 0, 0, 0, 0, 0, 0, 0, 0, 0, 0, 0, 0, 0, 0, 0, 0, 0, 0, 0, 0, 0, 0, 0, 0, 0, 0, 0, 0, 0, 0, 0, 0, 0, 0, 0, 0, 0, 0, 0, 0, 0, 0, 0, 0, 0, 0, 0, 0, 0, 0, 0, 0, 0, 0, 0, 0, 0, 0, 0, 0, 0, 0, 0, 0, 0, 0]\n"
          ]
        }
      ]
    },
    {
      "cell_type": "markdown",
      "source": [
        "**ResNet50**"
      ],
      "metadata": {
        "id": "r-qGyq2RXVeV"
      }
    },
    {
      "cell_type": "code",
      "source": [
        "# set the path to your video folder\n",
        "video_folder = '/content/drive/MyDrive/Colab Notebooks/project/data/Sport_Videos'\n",
        "\n",
        "# set the path to your model file\n",
        "model_path = '/content/drive/MyDrive/Colab Notebooks/project/notebook/model/new_res_model.h5'\n",
        "\n",
        "# load the model\n",
        "model = load_model(model_path)\n",
        "\n",
        "# set the desired number of frames to extract per video\n",
        "num_frames = 100\n",
        "\n",
        "# set the desired frame rate\n",
        "frame_rate = 1\n",
        "\n",
        "# initialize empty lists to store the predicted and actual labels\n",
        "predicted_labels = []\n",
        "actual_labels = []"
      ],
      "metadata": {
        "id": "Izw_YVYkXpA_"
      },
      "execution_count": 91,
      "outputs": []
    },
    {
      "cell_type": "code",
      "source": [
        "with open(\"/content/drive/MyDrive/Colab Notebooks/project/notebook/labels/res_predicted_labels.txt\", \"w\") as predicted_file:\n",
        "    with open(\"/content/drive/MyDrive/Colab Notebooks/project/notebook/labels/res_actual_labels.txt\", \"w\") as actual_file:\n",
        "\n",
        "        # loop over each video folder\n",
        "        for video_class in sorted(os.listdir(video_folder)):\n",
        "            print(f\"Processing video class: {video_class}\")\n",
        "            class_path = os.path.join(video_folder, video_class)\n",
        "\n",
        "            # get the corresponding label for the current video class\n",
        "            if video_class in class_dict:\n",
        "                class_label = class_dict[video_class]\n",
        "            else:\n",
        "                print(f\"Warning: unknown video class '{video_class}'\")\n",
        "                continue\n",
        "            \n",
        "            # loop over each video file in the current class\n",
        "            for video_file in os.listdir(class_path):\n",
        "                video_path = os.path.join(class_path, video_file)\n",
        "                #print(f\"Processing video file: {video_file}\")\n",
        "                #print(video_path)\n",
        "\n",
        "                # use OpenCV to read the video file\n",
        "                cap = cv2.VideoCapture(video_path)\n",
        "\n",
        "                if not os.path.exists(video_path):\n",
        "                    print(f\"Error: video file '{video_path}' does not exist\")\n",
        "                    continue\n",
        "\n",
        "                if not cap.isOpened():\n",
        "                    print(f\"Error: could not read video file '{video_path}'\")\n",
        "                    continue\n",
        "\n",
        "                # get the total number of frames in the video\n",
        "                num_frames_total = int(cap.get(cv2.CAP_PROP_FRAME_COUNT))\n",
        "                #print(f\"Total number of frames: {num_frames_total}\")\n",
        "\n",
        "                # determine the number of frames to skip between extractions\n",
        "                frame_step = int(num_frames_total / num_frames)\n",
        "\n",
        "                # initialize an empty list to store the probability vectors\n",
        "                prob_vectors = []\n",
        "\n",
        "                # loop over each frame in the video\n",
        "                for i in range(num_frames_total):\n",
        "                    ret, frame = cap.read()\n",
        "                    #print(f\"Frame {i} read: {ret}\")\n",
        "                    \n",
        "                    # use continus instead of break here since if using break, no current pro_vectors, but\n",
        "                    # we still have append an actural label not in this for loop\n",
        "                    # but with continue, will directly jumpt to for i in range(num_frames_total)\n",
        "                    # it is likely that all frams are read (ret == False), this for loop will end/exit \n",
        "                    # without going to the actural label.\n",
        "                    if ret ==False:\n",
        "                      continue\n",
        "\n",
        "\n",
        "                    # check if the current frame index is a multiple of the desired frame rate\n",
        "                    if i % frame_rate == 0:\n",
        "                        # preprocess the frame\n",
        "                        frame = cv2.resize(frame, (224, 224))\n",
        "                        frame = frame.astype('float32') / 255.0\n",
        "                        frame = np.expand_dims(frame, axis=0)\n",
        "\n",
        "                        # get the probability predictions from the model\n",
        "                        prob_vector = model.predict(frame, verbose=0)[0]\n",
        "                        prob_vectors.append(prob_vector)\n",
        "\n",
        "                    # check if we have already extracted the desired number of frames\n",
        "                    if len(prob_vectors) == num_frames:\n",
        "                        break\n",
        "\n",
        "                    # skip frames according to the frame step\n",
        "                    for j in range(frame_step):\n",
        "                        ret = cap.grab()\n",
        "\n",
        "                cap.release()\n",
        "\n",
        "                # calculate the average probability vector for the video\n",
        "                avg_prob_vector = np.mean(prob_vectors, axis=0)\n",
        "\n",
        "                # print the average probability vector\n",
        "                #print(f\"Average probability vector for {video_file}:\")\n",
        "                #print(avg_prob_vector)\n",
        "\n",
        "                # get the predicted label for the video\n",
        "                predicted_label = np.argmax(avg_prob_vector)\n",
        "                predicted_labels.append(predicted_label)\n",
        "                \n",
        "\n",
        "                if video_class in class_dict:\n",
        "                    class_label = class_dict[video_class]\n",
        "                    # get the actual label for the video\n",
        "                    if class_label in class_order:\n",
        "                        actual_label = class_order.index(class_label)\n",
        "                        actual_labels.append(actual_label)\n",
        "                        #print(f\"Predicted label: {predicted_label}\")\n",
        "                        #print(f\"Actual label: {actual_label}\")\n",
        "                    else:\n",
        "                        print(f\"Error: class label '{class_label}' not found in class order\")\n",
        "                        continue\n",
        "                else:\n",
        "                    print(f\"Error: video class '{video_class} not found in class_dict\")\n",
        "                \n",
        "                #print(predicted_labels)\n",
        "                #print(actual_labels)\n",
        "                predicted_file.write(f\"{predicted_label}\\n\")\n",
        "                actual_file.write(f\"{actual_label}\\n\")\n",
        "\n",
        "        print(\"Done\")"
      ],
      "metadata": {
        "colab": {
          "base_uri": "https://localhost:8080/"
        },
        "id": "fXNzgut3PCSX",
        "outputId": "6c52516c-ac06-41f1-8a9d-3a251c8737ae"
      },
      "execution_count": 92,
      "outputs": [
        {
          "output_type": "stream",
          "name": "stdout",
          "text": [
            "Processing video class: BaseballPitch\n",
            "Processing video class: Basketball\n",
            "Processing video class: Fencing\n",
            "Processing video class: TennisSwing\n",
            "Processing video class: VolleyballSpiking\n",
            "Done\n"
          ]
        }
      ]
    },
    {
      "cell_type": "code",
      "source": [
        "res_predicted_labels = predicted_labels\n",
        "res_actual_labels = actual_labels"
      ],
      "metadata": {
        "id": "93C-slXZbxDA"
      },
      "execution_count": 93,
      "outputs": []
    },
    {
      "cell_type": "code",
      "source": [
        "len(res_predicted_labels)"
      ],
      "metadata": {
        "colab": {
          "base_uri": "https://localhost:8080/"
        },
        "id": "gsiJZOLjSN4H",
        "outputId": "01374299-057a-4a55-b588-43a6d4bd1b27"
      },
      "execution_count": 94,
      "outputs": [
        {
          "output_type": "execute_result",
          "data": {
            "text/plain": [
              "685"
            ]
          },
          "metadata": {},
          "execution_count": 94
        }
      ]
    },
    {
      "cell_type": "code",
      "source": [
        "print(res_predicted_labels)"
      ],
      "metadata": {
        "colab": {
          "base_uri": "https://localhost:8080/"
        },
        "id": "B5KNaHSHSReF",
        "outputId": "3636c81f-7a5d-4e97-cabf-f4d6881701f3"
      },
      "execution_count": 95,
      "outputs": [
        {
          "output_type": "stream",
          "name": "stdout",
          "text": [
            "[2, 2, 3, 0, 3, 3, 3, 3, 3, 0, 3, 3, 2, 3, 2, 2, 3, 3, 3, 3, 3, 3, 4, 4, 1, 4, 4, 4, 4, 3, 3, 3, 3, 3, 3, 3, 4, 4, 4, 4, 4, 3, 4, 4, 4, 4, 4, 4, 4, 3, 4, 4, 4, 4, 4, 4, 4, 4, 4, 4, 4, 4, 4, 4, 4, 4, 0, 0, 4, 2, 0, 0, 2, 2, 0, 2, 2, 2, 4, 2, 4, 4, 2, 4, 3, 3, 4, 3, 4, 4, 4, 4, 4, 4, 4, 3, 3, 3, 3, 3, 3, 3, 2, 2, 2, 2, 2, 2, 2, 4, 4, 3, 4, 3, 3, 4, 4, 4, 4, 4, 4, 4, 4, 4, 4, 3, 3, 3, 3, 4, 4, 4, 4, 4, 4, 4, 3, 3, 3, 3, 3, 3, 3, 3, 3, 3, 3, 3, 3, 3, 3, 4, 3, 3, 3, 3, 3, 3, 3, 3, 3, 3, 3, 4, 3, 4, 3, 3, 3, 4, 4, 4, 4, 3, 3, 3, 3, 3, 3, 3, 3, 4, 4, 3, 3, 2, 4, 2, 3, 2, 2, 2, 2, 2, 3, 4, 4, 4, 4, 3, 3, 3, 3, 3, 4, 4, 4, 4, 4, 4, 4, 4, 4, 4, 4, 4, 4, 0, 3, 3, 3, 3, 3, 3, 3, 2, 4, 2, 2, 2, 2, 4, 3, 0, 3, 0, 3, 3, 3, 3, 3, 4, 3, 3, 3, 4, 3, 4, 4, 3, 0, 3, 3, 3, 4, 4, 3, 4, 4, 4, 4, 2, 2, 4, 3, 4, 3, 2, 2, 4, 3, 3, 4, 3, 3, 3, 3, 3, 4, 3, 3, 3, 3, 3, 3, 3, 3, 3, 3, 3, 3, 3, 3, 1, 2, 2, 2, 4, 2, 1, 4, 4, 4, 4, 4, 4, 4, 4, 4, 4, 4, 4, 4, 4, 4, 4, 4, 4, 4, 4, 4, 4, 2, 4, 2, 4, 4, 4, 2, 4, 4, 0, 4, 4, 4, 4, 3, 3, 3, 3, 3, 0, 0, 4, 4, 2, 3, 3, 3, 3, 4, 4, 4, 4, 4, 4, 4, 4, 3, 4, 4, 4, 4, 4, 4, 4, 4, 4, 4, 4, 4, 4, 4, 4, 4, 4, 4, 4, 3, 3, 3, 3, 4, 4, 4, 2, 4, 3, 3, 4, 4, 4, 4, 4, 4, 4, 4, 1, 3, 3, 3, 3, 3, 3, 3, 3, 3, 3, 3, 3, 3, 4, 3, 4, 4, 4, 4, 4, 4, 4, 4, 4, 4, 4, 4, 4, 1, 4, 1, 4, 4, 4, 4, 0, 0, 1, 0, 0, 0, 0, 4, 3, 3, 3, 3, 3, 3, 3, 4, 4, 4, 4, 4, 4, 3, 2, 2, 2, 3, 3, 3, 4, 4, 4, 4, 4, 4, 4, 3, 3, 3, 3, 3, 3, 3, 3, 3, 3, 3, 3, 3, 3, 3, 3, 3, 3, 3, 3, 3, 3, 3, 3, 3, 3, 4, 4, 4, 4, 4, 4, 4, 4, 4, 4, 4, 3, 3, 3, 3, 3, 3, 3, 3, 3, 3, 3, 3, 3, 3, 4, 3, 3, 4, 3, 3, 3, 2, 3, 3, 3, 3, 3, 3, 2, 3, 1, 1, 4, 3, 3, 3, 3, 3, 3, 3, 3, 3, 3, 3, 3, 3, 3, 3, 3, 0, 3, 3, 3, 3, 3, 3, 4, 4, 4, 4, 4, 4, 4, 4, 3, 4, 3, 3, 4, 3, 3, 3, 4, 4, 4, 4, 4, 3, 4, 4, 4, 4, 4, 4, 4, 0, 3, 3, 3, 3, 3, 3, 3, 3, 3, 3, 3, 4, 3, 3, 3, 3, 3, 3, 3, 3, 4, 3, 3, 3, 3, 3, 3, 3, 3, 4, 4, 3, 4, 4, 4, 4, 3, 3, 3, 3, 3, 3, 3, 3, 3, 3, 3, 3, 3, 3, 3, 3, 3, 3, 4, 3, 4, 4, 4, 4, 4, 4, 4, 3, 3, 3, 3, 3, 3, 3, 2, 3, 3, 3, 4, 3, 3, 3, 3, 3, 4, 4, 4, 4, 3, 3, 4, 3, 4, 4, 3, 3, 4, 0]\n"
          ]
        }
      ]
    },
    {
      "cell_type": "markdown",
      "source": [
        "\n",
        "**(iv) Report the Confusion Matrix, Precision, Recall, Accuracy, and F1 score for your model on the test data, i.e. videos. Remember that this is a multi-class classification problem.**\n"
      ],
      "metadata": {
        "id": "CWQH9LOXXuwQ"
      }
    },
    {
      "cell_type": "markdown",
      "source": [
        "**VGG16**"
      ],
      "metadata": {
        "id": "29gjlTEWb6rf"
      }
    },
    {
      "cell_type": "code",
      "source": [
        "# VGG16"
      ],
      "metadata": {
        "id": "t1W1z3drXyPh"
      },
      "execution_count": null,
      "outputs": []
    },
    {
      "cell_type": "code",
      "source": [
        "print(classification_report(vgg_actual_labels, vgg_predicted_labels))"
      ],
      "metadata": {
        "colab": {
          "base_uri": "https://localhost:8080/"
        },
        "id": "XXrylAGdYT-A",
        "outputId": "20e04c19-0ed8-4c63-a612-b37a496c6dbd"
      },
      "execution_count": 62,
      "outputs": [
        {
          "output_type": "stream",
          "name": "stdout",
          "text": [
            "              precision    recall  f1-score   support\n",
            "\n",
            "           0       0.34      0.93      0.50       300\n",
            "           1       0.21      0.05      0.08       274\n",
            "           2       0.53      0.23      0.33       222\n",
            "           3       0.44      0.23      0.30       246\n",
            "           4       0.39      0.18      0.25       116\n",
            "\n",
            "    accuracy                           0.36      1158\n",
            "   macro avg       0.38      0.32      0.29      1158\n",
            "weighted avg       0.37      0.36      0.30      1158\n",
            "\n"
          ]
        }
      ]
    },
    {
      "cell_type": "code",
      "source": [
        "print('Confusion Matrix - VGG16 Video \\n')\n",
        "print(confusion_matrix(y_true=vgg_actual_labels, y_pred= vgg_predicted_labels))"
      ],
      "metadata": {
        "id": "hfmJKaYOX0iV",
        "colab": {
          "base_uri": "https://localhost:8080/"
        },
        "outputId": "85b9db00-8da3-4a0a-e09e-ea7fc0eeb450"
      },
      "execution_count": 63,
      "outputs": [
        {
          "output_type": "stream",
          "name": "stdout",
          "text": [
            "Confusion Matrix - VGG16 Video \n",
            "\n",
            "[[278   2   8  12   0]\n",
            " [192  14  22  22  24]\n",
            " [136   8  52  24   2]\n",
            " [153  30   0  56   7]\n",
            " [ 51  14  16  14  21]]\n"
          ]
        }
      ]
    },
    {
      "cell_type": "code",
      "source": [
        "print('VGG16 Video Classification Accuracy: %.3f' % accuracy_score(vgg_actual_labels, vgg_predicted_labels))"
      ],
      "metadata": {
        "colab": {
          "base_uri": "https://localhost:8080/"
        },
        "id": "-GQbiksMOdLE",
        "outputId": "08cc5cd9-91f7-4bdf-fe4c-441e57918f19"
      },
      "execution_count": 64,
      "outputs": [
        {
          "output_type": "stream",
          "name": "stdout",
          "text": [
            "VGG16 Video Classification Accuracy: 0.364\n"
          ]
        }
      ]
    },
    {
      "cell_type": "markdown",
      "source": [
        "**EfficientNetB0**"
      ],
      "metadata": {
        "id": "lw_vzqfJb8oi"
      }
    },
    {
      "cell_type": "code",
      "source": [
        "print(classification_report(eff_actual_labels, eff_predicted_labels))"
      ],
      "metadata": {
        "colab": {
          "base_uri": "https://localhost:8080/"
        },
        "id": "ZsZnSaOdb_I-",
        "outputId": "1c8ac278-2c54-4c68-febf-4fe67804e704"
      },
      "execution_count": 70,
      "outputs": [
        {
          "output_type": "stream",
          "name": "stdout",
          "text": [
            "              precision    recall  f1-score   support\n",
            "\n",
            "           0       0.22      1.00      0.36       150\n",
            "           1       0.00      0.00      0.00       137\n",
            "           2       0.00      0.00      0.00       111\n",
            "           3       0.00      0.00      0.00       171\n",
            "           4       0.00      0.00      0.00       116\n",
            "\n",
            "    accuracy                           0.22       685\n",
            "   macro avg       0.04      0.20      0.07       685\n",
            "weighted avg       0.05      0.22      0.08       685\n",
            "\n"
          ]
        },
        {
          "output_type": "stream",
          "name": "stderr",
          "text": [
            "/usr/local/lib/python3.10/dist-packages/sklearn/metrics/_classification.py:1344: UndefinedMetricWarning: Precision and F-score are ill-defined and being set to 0.0 in labels with no predicted samples. Use `zero_division` parameter to control this behavior.\n",
            "  _warn_prf(average, modifier, msg_start, len(result))\n",
            "/usr/local/lib/python3.10/dist-packages/sklearn/metrics/_classification.py:1344: UndefinedMetricWarning: Precision and F-score are ill-defined and being set to 0.0 in labels with no predicted samples. Use `zero_division` parameter to control this behavior.\n",
            "  _warn_prf(average, modifier, msg_start, len(result))\n",
            "/usr/local/lib/python3.10/dist-packages/sklearn/metrics/_classification.py:1344: UndefinedMetricWarning: Precision and F-score are ill-defined and being set to 0.0 in labels with no predicted samples. Use `zero_division` parameter to control this behavior.\n",
            "  _warn_prf(average, modifier, msg_start, len(result))\n"
          ]
        }
      ]
    },
    {
      "cell_type": "code",
      "source": [
        "print('Confusion Matrix - EfficientNetB0 Video \\n')\n",
        "print(confusion_matrix(y_true=eff_actual_labels, y_pred= eff_predicted_labels))"
      ],
      "metadata": {
        "colab": {
          "base_uri": "https://localhost:8080/"
        },
        "id": "jvTAEzPpcCj_",
        "outputId": "a3de211f-0ecc-456b-802e-3c3c41d1543f"
      },
      "execution_count": 71,
      "outputs": [
        {
          "output_type": "stream",
          "name": "stdout",
          "text": [
            "Confusion Matrix - EfficientNetB0 Video \n",
            "\n",
            "[[150   0   0   0   0]\n",
            " [137   0   0   0   0]\n",
            " [111   0   0   0   0]\n",
            " [171   0   0   0   0]\n",
            " [116   0   0   0   0]]\n"
          ]
        }
      ]
    },
    {
      "cell_type": "code",
      "source": [
        "print('EfficientNetB0 Video Classification Accuracy: %.3f' % accuracy_score(eff_actual_labels, eff_predicted_labels))"
      ],
      "metadata": {
        "colab": {
          "base_uri": "https://localhost:8080/"
        },
        "id": "_vRXuq6lcIys",
        "outputId": "b4ce6367-a102-49d1-d95c-8e61ee636381"
      },
      "execution_count": 72,
      "outputs": [
        {
          "output_type": "stream",
          "name": "stdout",
          "text": [
            "EfficientNetB0 Video Classification Accuracy: 0.219\n"
          ]
        }
      ]
    },
    {
      "cell_type": "markdown",
      "source": [
        "**ResNet50**"
      ],
      "metadata": {
        "id": "b6veSj8ncM0l"
      }
    },
    {
      "cell_type": "code",
      "source": [
        "print(classification_report(res_actual_labels, res_predicted_labels))"
      ],
      "metadata": {
        "colab": {
          "base_uri": "https://localhost:8080/"
        },
        "id": "BEc_9xeBcPKd",
        "outputId": "77135b5a-b929-4bf4-86b8-b501ef3d27dc"
      },
      "execution_count": 96,
      "outputs": [
        {
          "output_type": "stream",
          "name": "stdout",
          "text": [
            "              precision    recall  f1-score   support\n",
            "\n",
            "           0       0.30      0.05      0.08       150\n",
            "           1       0.00      0.00      0.00       137\n",
            "           2       0.18      0.08      0.11       111\n",
            "           3       0.31      0.58      0.40       171\n",
            "           4       0.14      0.34      0.20       116\n",
            "\n",
            "    accuracy                           0.22       685\n",
            "   macro avg       0.19      0.21      0.16       685\n",
            "weighted avg       0.20      0.22      0.17       685\n",
            "\n"
          ]
        }
      ]
    },
    {
      "cell_type": "code",
      "source": [
        "print('Confusion Matrix - ResNet50 Video \\n')\n",
        "print(confusion_matrix(y_true=res_actual_labels, y_pred= res_predicted_labels))"
      ],
      "metadata": {
        "colab": {
          "base_uri": "https://localhost:8080/"
        },
        "id": "bMuun9-UcUcf",
        "outputId": "d1fc59f4-691e-4008-e8db-d661068a7a67"
      },
      "execution_count": 97,
      "outputs": [
        {
          "output_type": "stream",
          "name": "stdout",
          "text": [
            "Confusion Matrix - ResNet50 Video \n",
            "\n",
            "[[ 7  1 20 55 67]\n",
            " [ 4  0 16 73 44]\n",
            " [ 3  3  9 22 74]\n",
            " [ 7  5  5 99 55]\n",
            " [ 2  0  1 74 39]]\n"
          ]
        }
      ]
    },
    {
      "cell_type": "code",
      "source": [
        "print('ResNet50 Video Classification Accuracy: %.3f' % accuracy_score(res_actual_labels, res_predicted_labels))"
      ],
      "metadata": {
        "colab": {
          "base_uri": "https://localhost:8080/"
        },
        "id": "YWILHHz6cYpu",
        "outputId": "0fb27c7e-de8a-4784-90d8-9f5660555da4"
      },
      "execution_count": 98,
      "outputs": [
        {
          "output_type": "stream",
          "name": "stdout",
          "text": [
            "ResNet50 Video Classification Accuracy: 0.225\n"
          ]
        }
      ]
    },
    {
      "cell_type": "code",
      "source": [],
      "metadata": {
        "id": "XR1zdoXVTgxz"
      },
      "execution_count": null,
      "outputs": []
    },
    {
      "cell_type": "markdown",
      "source": [
        "**Reference** <br>\n",
        "https://www.analyticsvidhya.com/blog/2018/09/deep-learning-video-classification-python/?  <br>\n",
        "https://keras.io/examples/vision/video_classification/ <br>\n",
        "https://machinelearningmastery.com/update-neural-network-models-with-more-data/ <br>\n",
        "https://stats.stackexchange.com/questions/352750/is-there-a-way-to-incorporate-new-data-into-an-already-trained-neural-network-wi <br>\n",
        "https://stackoverflow.com/questions/38971293/get-class-labels-from-keras-functional-model <br>\n",
        "https://studymachinelearning.com/keras-imagedatagenerator-with-flow_from_dataframe/ <br>\n",
        "https://stackoverflow.com/questions/47435526/what-is-the-meaning-of-axis-1-in-keras-argmax <br>\n",
        "https://vitalflux.com/accuracy-precision-recall-f1-score-python-example/ <br>\n",
        "https://scikit-learn.org/stable/modules/generated/sklearn.metrics.classification_report.html <br>\n",
        "https://stackoverflow.com/questions/41908379/keras-plot-training-validation-and-test-set-accuracy <br>\n",
        "https://www.projectpro.io/recipes/run-and-fit-data-with-keras-model <br>\n",
        "https://www.tensorflow.org/api_docs/python/tf/keras/Model#fit <br>\n",
        "https://machinelearningmastery.com/how-to-stop-training-deep-neural-networks-at-the-right-time-using-early-stopping/ <br>\n",
        "https://keunwoochoi.wordpress.com/2017/08/24/tip-fit_generator-in-keras-how-to-parallelise-correctly/ <br>\n",
        "https://medium.com/@kenneth.ca95/a-guide-to-transfer-learning-with-keras-using-resnet50-a81a4a28084b <br>\n",
        "https://www.analyticsvidhya.com/blog/2020/08/top-4-pre-trained-models-for-image-classification-with-python-code/ <br>\n",
        "https://www.tensorflow.org/api_docs/python/tf/keras/preprocessing/image/ImageDataGenerator <br>\n",
        "https://blog.keras.io/building-powerful-image-classification-models-using-very-little-data.html <br>\n",
        "https://keras.io/zh/preprocessing/image/ <br>\n",
        "https://keras.io/guides/transfer_learning/ <br>\n",
        "https://keras.io/api/optimizers/ <br>\n",
        "https://towardsdatascience.com/fine-tuning-pre-trained-model-vgg-16-1277268c537f <br>\n",
        "\n",
        "\n",
        "\n",
        "\n"
      ],
      "metadata": {
        "id": "82-aCKVkThb4"
      }
    }
  ]
}